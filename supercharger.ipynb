{
 "cells": [
  {
   "cell_type": "code",
   "execution_count": 58,
   "metadata": {},
   "outputs": [
    {
     "name": "stdout",
     "output_type": "stream",
     "text": [
      "\u001b[H\u001b[2J\u001b[93m ('Council_Bluffs_IA', (41.220921, -95.835579), 165.0, 8.66163305034881, 855.0586472780235)\n",
      "\u001b[0m\u001b[93m ('Worthington_MN', (43.63385, -95.595647), 108.0, 10.786416085607863, 787.6863374950125, 'Council_Bluffs_IA', 268.30673534846466)\n",
      "\u001b[0m\u001b[93m ('Albert_Lea_MN', (43.68606, -93.357721), 92.0, 8.17160068091828, 616.1869227355636, 'Worthington_MN', 171.50546736168818)\n",
      "\u001b[0m\u001b[93m ('Mauston_WI', (43.795551, -90.059358), 138.0, 6.133431627717298, 363.09954879487435, 'Albert_Lea_MN', 253.28363253322328)\n",
      "\u001b[0m\u001b[93m ('Sheboygan_WI', (43.749753, -87.746971), 116.0, 3.6654030002225624, 190.1111642282576, 'Mauston_WI', 177.54781265376056)\n",
      "\u001b[0m\u001b[93m ('Cadillac_MI', (44.28254, -85.40306), 111.0, 1.8105825164595961, 0.0, 'Sheboygan_WI', 190.1111642282576)\n",
      "\u001b[0m\u001b[32m Goal reached!\n",
      "\u001b[0m\u001b[93m Path Results:\n",
      "\u001b[0m            Location        lat        lng  charging_rate  dist_from_parent  \\\n",
      "0  Council_Bluffs_IA  41.220921 -95.835579          165.0          0.000000   \n",
      "1     Worthington_MN  43.633850 -95.595647          108.0        268.306735   \n",
      "2      Albert_Lea_MN  43.686060 -93.357721           92.0        171.505467   \n",
      "3         Mauston_WI  43.795551 -90.059358          138.0        253.283633   \n",
      "4       Sheboygan_WI  43.749753 -87.746971          116.0        177.547813   \n",
      "5        Cadillac_MI  44.282540 -85.403060          111.0        190.111164   \n",
      "\n",
      "   heuristic  remaining_fuel_distance  time_spent_charging  \\\n",
      "0   8.661633               320.000000             1.626101   \n",
      "1  11.602796              -291.317670             1.738297   \n",
      "2  13.336909              -626.379468             2.753083   \n",
      "3  10.559027              -728.191461             1.101279   \n",
      "4   6.315271              -550.643648             1.530585   \n",
      "5   1.810583              -740.754812             0.000000   \n",
      "\n",
      "   time_spent_driving  time_spent  total_time_spent  \n",
      "0            0.000000    0.000000          0.000000  \n",
      "1            2.555302    4.293599          4.293599  \n",
      "2            1.633385    4.386468          8.680067  \n",
      "3            2.412225    3.513504         12.193571  \n",
      "4            1.690932    3.221516         15.415087  \n",
      "5            1.810583    1.810583         17.225670  \n"
     ]
    }
   ],
   "source": [
    "import numpy as np\n",
    "import pandas as pd\n",
    "import sys\n",
    "import os\n",
    "import warnings\n",
    "import chart_studio\n",
    "import chart_studio.plotly as cspy\n",
    "import chart_studio.tools as tls\n",
    "\n",
    "from sample_data import network\n",
    "from tesla_supercharger_web_parser import tesla_supercharger_parser\n",
    "from print_utils import Printer\n",
    "from utils import read_csv, add_random_charging_rates, plot_superchargers, plot_superchargers_with_path\n",
    "from planner import planner, backtrack, display_path\n",
    "from node import Node\n",
    "from credentials import username, api_key\n",
    "from global_vars import min_charging_rate, max_charging_rate ,decimal_places ,verbose ,velocity ,max_dist ,earth_radius, parse, webscraper_data, data_directory\n",
    "\n",
    "if not os.path.exists(data_directory):\n",
    "\t    # If it doesn't exist, create it\n",
    "\t    os.makedirs(data_directory)\n",
    "\n",
    "chart_studio.tools.set_credentials_file(username=username, api_key=api_key)\n",
    "os.system('cls' if os.name == 'nt' else 'clear')\n",
    "\n",
    "# generate web-scraped dataset into a csv\n",
    "if parse:\n",
    "\ttesla_supercharger_parser()\n",
    "\n",
    "# use web-scraped dataset\n",
    "if webscraper_data:\n",
    "\tdata = read_csv(data_directory+\"supercharger-1.csv\")\n",
    "\tdata.columns = [\"Location\",\"lat\",\"lng\"]\n",
    "\tdata = add_random_charging_rates(data,min_charging_rate,max_charging_rate)\n",
    "\tdf = data.sample(n=2)\n",
    "\tstart_idx = df.index.tolist()[0]\n",
    "\tgoal_idx = df.index.tolist()[1]\n",
    "\tstart = data.iloc[start_idx]\n",
    "\tgoal = data.iloc[goal_idx]\n",
    "\n",
    "\tstart_node = Node(start.Location,start.lat,start.lng,start.charging_rate)\n",
    "\tgoal_node = Node(goal.Location,goal.lat,goal.lng,goal.charging_rate)\n",
    "\n",
    "# use sample network from coding challenge\n",
    "else:\n",
    "\tnetwork_df = pd.DataFrame(network,columns=[\"Location\",\"lat\",\"lng\",\"charging_rate\"])\n",
    "\tnetwork_df.to_csv(data_directory+\"network.csv\")\n",
    "\tdata = network_df\n",
    "\tstart = data[data.Location==\"Council_Bluffs_IA\"]\n",
    "\tgoal = data[data.Location==\"Cadillac_MI\"]\n",
    "\tstart_idx = start.index[0]\n",
    "\tgoal_idx = goal.index[0]\n",
    "\tstart_node = Node(start.Location.values.tolist()[0],start.lat.values.tolist()[0],start.lng.values.tolist()[0],start.charging_rate.values.tolist()[0])\n",
    "\tgoal_node = Node(goal.Location.values.tolist()[0],goal.lat.values.tolist()[0],goal.lng.values.tolist()[0],goal.charging_rate.values.tolist()[0])\n",
    "\n",
    "# remove start_node\n",
    "query = data.copy()\n",
    "query = query.drop([start_idx])\n",
    "\n",
    "# create Node classes for each charging station\n",
    "nodes = []\n",
    "for i in range(len(query)):\n",
    "\trow = query.iloc[i]\n",
    "\tsample = Node(row.Location,row.lat,row.lng,row.charging_rate)\n",
    "\tnodes.append(sample)\n",
    "\n",
    "# set the inital fuel charge to be the max distance it can travel\n",
    "start_node.set_remaining_fuel_distance(max_dist)\n",
    "\n",
    "# a-star planner with heuristics\n",
    "status = planner(start_node,goal_node,nodes)\n",
    "if isinstance(status, Node):\n",
    "    # generate backtracked path\n",
    "\tpath = backtrack(status)\n",
    "\t# plot backtracked path using plotly\n",
    "\tpathdf = display_path(data,path)\n",
    "\t# fig = plot_superchargers_with_path(data,pathdf)\n",
    "else:\n",
    "    # no path\n",
    "\tpath = None\n",
    "\twarnings.warn(\"Planner couldn't find a path. Terminating...\")\n",
    "\tsys.exit()"
   ]
  },
  {
   "cell_type": "code",
   "execution_count": 74,
   "metadata": {},
   "outputs": [
    {
     "data": {
      "application/vnd.plotly.v1+json": {
       "config": {
        "plotlyServerURL": "https://plotly.com"
       },
       "data": [
        {
         "lat": [
          42.710356,
          40.544595,
          39.858702,
          43.592251,
          34.667629,
          35.108486,
          39.662265,
          43.623536,
          40.738399,
          38.877342,
          37.66976,
          38.249149,
          42.518715,
          39.040814,
          33.894227,
          32.726686,
          41.245823,
          43.102424,
          38.957778,
          40.277134,
          28.514873,
          30.181405,
          37.394181,
          45.70007,
          41.348503,
          45.64655,
          42.241125,
          34.850835,
          34.98737,
          33.79382,
          40.958869,
          40.66179,
          41.585206,
          35.174151,
          36.860525,
          29.112378,
          41.045431,
          46.729872,
          40.891909,
          36.61697,
          37.703163,
          38.017955,
          38.235578,
          44.347885,
          39.678111,
          38.993577,
          44.704537,
          43.109066,
          32.374263,
          40.32244,
          35.34075,
          33.741291,
          31.312424,
          41.57833,
          46.976918,
          32.135885,
          34.922962,
          36.835455,
          41.499616,
          33.52421,
          44.46286,
          38.642291,
          38.696385,
          37.14916,
          32.878773,
          29.827707,
          32.068583,
          32.760837,
          43.879042,
          41.080103,
          45.402786,
          47.192149,
          37.782622,
          29.140981,
          34.947013,
          33.485858,
          40.720352,
          39.541124,
          40.588118,
          35.901319,
          38.573122,
          39.77512,
          27.940665,
          44.105601,
          44.656089,
          48.509743,
          41.161085,
          42.236461,
          42.130914,
          27.31293,
          40.017517,
          37.963357,
          42.056357,
          37.5447,
          38.931919,
          35.9696,
          39.1481,
          41.760671,
          32.902166,
          33.921063,
          39.877253,
          35.505278,
          45.981226,
          42.460931,
          43.328388,
          38.837573,
          42.17434,
          38.900543,
          38.78216,
          40.957892,
          39.563776,
          41.519427,
          31.582287,
          42.895248,
          46.914375,
          43.979585,
          35.486585,
          43.886915,
          34.174754,
          37.405893,
          39.095382,
          44.964892,
          42.968675,
          33.986765,
          33.70275,
          32.833485,
          46.378836,
          43.12669,
          41.699048,
          39.137114,
          33.660784,
          37.02445,
          46.198035,
          40.195539,
          46.784467,
          39.443345,
          39.393663,
          36.165906,
          37.644519,
          39.00496,
          33.970281,
          39.268975,
          41.660517,
          26.77825,
          42.049602,
          35.191331,
          27.60089,
          45.83626,
          35.15396,
          30.423892,
          45.611941,
          41.041538,
          32.832466,
          36.289315,
          40.7999,
          40.683508,
          34.729509,
          38.069801,
          34.39359,
          32.274159,
          38.211962,
          34.614555,
          39.023876,
          28.766853,
          42.914231,
          31.448847,
          38.78799,
          29.690066,
          39.702238,
          40.06076,
          40.508562,
          37.593182,
          37.415328,
          36.748516,
          41.890872,
          40.68331,
          35.400105,
          36.913695,
          35.531428,
          39.92646,
          32.478594,
          36.766315,
          45.734046,
          35.140024,
          42.597887,
          38.366645,
          29.924286,
          30.199071,
          40.226408,
          32.949077,
          39.090758,
          47.708479,
          32.470885,
          28.617982,
          42.145542,
          39.605859,
          30.720702,
          30.266552,
          30.790734,
          36.167631,
          42.998817,
          24.72611,
          39.326258,
          42.243893,
          39.327438,
          36.612153,
          39.224642,
          35.972904,
          35.646451,
          41.781195,
          41.722672,
          46.009797,
          36.955196,
          34.238115,
          32.627837,
          33.673925,
          38.771208,
          40.415938,
          47.62957,
          37.126463,
          33.443011,
          33.498538,
          35.461664,
          40.726668,
          35.53859,
          47.116294,
          37.134167,
          33.231373,
          32.450591,
          40.146204,
          44.292984,
          34.849124,
          30.671556,
          39.552676,
          36.893583,
          40.778885,
          26.108605,
          43.485152,
          43.113878,
          26.485574,
          34.879736,
          44.804582,
          33.137098,
          41.907415,
          34.32753,
          32.943675,
          41.717337,
          33.421676,
          39.631467,
          30.716158,
          39.600831,
          36.60059,
          35.189016,
          45.15313,
          35.610678,
          44.957751,
          37.625618,
          42.838443,
          44.082607,
          33.931316,
          42.899615,
          41.310222,
          33.793198,
          44.03563,
          36.254143,
          36.945693,
          35.038644,
          29.108571,
          37.60878,
          41.313663,
          41.70995,
          35.850587,
          38.242676,
          40.41621,
          44.73704,
          37.394011,
          35.068595,
          44.77083,
          43.701129,
          42.295745,
          29.980687,
          40.303817,
          30.510908,
          40.179476,
          34.179106,
          44.782882,
          38.64082,
          38.80086,
          40.836301,
          39.489732,
          42.75625,
          35.226765,
          40.684466,
          38.4016,
          39.04438,
          34.113584,
          34.994625
         ],
         "lon": [
          -73.819109,
          -74.334113,
          -84.277027,
          -116.27942,
          -79.002343,
          -106.612804,
          -75.692027,
          -72.3258949,
          -114.058998,
          -97.618699,
          -77.461414,
          -112.652524,
          -87.950428,
          -94.369265,
          -118.367407,
          -114.619093,
          -73.009059,
          -76.187446,
          -92.252761,
          -76.823255,
          -81.500189,
          -82.679605,
          -122.149858,
          -111.06329,
          -89.126115,
          -118.68198,
          -83.766522,
          -114.624329,
          -118.946272,
          -84.39713,
          -117.746501,
          -73.79282,
          -87.721114,
          -111.663194,
          -76.207467,
          -99.75208,
          -75.312237,
          -122.977392,
          -72.426995,
          -121.843973,
          -121.925304,
          -84.420664,
          -122.263886,
          -69.786042,
          -111.841003,
          -110.140513,
          -73.491829,
          -71.477768,
          -99.007197,
          -74.4869,
          -80.76579,
          -116.215029,
          -92.446436,
          -83.664593,
          -120.54162,
          -81.212853,
          -110.145558,
          -119.91058,
          -74.071324,
          -117.152568,
          -73.179308,
          -121.18813,
          -119.548525,
          -84.11385,
          -111.681694,
          -97.979685,
          -96.448248,
          -115.532486,
          -91.188428,
          -73.46135,
          -122.294371,
          -114.888901,
          -121.228683,
          -82.193938,
          -104.647997,
          -80.475763,
          -111.888712,
          -119.442336,
          -75.560089,
          -84.149634,
          -109.552368,
          -104.794648,
          -82.323525,
          -103.212569,
          -111.099022,
          -122.338681,
          -104.804955,
          -71.178325,
          -72.621435,
          -80.406743,
          -79.07712,
          -122.515699,
          -86.456352,
          -122.29011,
          -77.239564,
          -86.804159,
          -123.208604,
          -88.309184,
          -117.193699,
          -118.330074,
          -83.063448,
          -108.828094,
          -112.507161,
          -123.324124,
          -73.679992,
          -104.824889,
          -87.816626,
          -99.319142,
          -90.5329,
          -74.073976,
          -104.875651,
          -81.493146,
          -97.109152,
          -70.869299,
          -114.031924,
          -75.954114,
          -120.666378,
          -100.716887,
          -118.300803,
          -121.987945,
          -76.858319,
          -92.961249,
          -78.69568,
          -118.390162,
          -117.934297,
          -83.625813,
          -94.256378,
          -89.306829,
          -85.000326,
          -88.563468,
          -114.241801,
          -121.56535,
          -119.162687,
          -74.641375,
          -92.10232,
          -87.331737,
          -74.562619,
          -115.138655,
          -118.965499,
          -78.337848,
          -112.731503,
          -103.708626,
          -71.497242,
          -80.109586,
          -80.086345,
          -114.065592,
          -80.82286,
          -109.94341,
          -103.7226,
          -91.154637,
          -121.208249,
          -73.671661,
          -96.837638,
          -97.325935,
          -73.51524,
          -80.108327,
          -82.366353,
          -117.232243,
          -82.028798,
          -90.151048,
          -85.67319,
          -120.188432,
          -77.144352,
          -96.978988,
          -85.533057,
          -83.53221,
          -112.085173,
          -96.537727,
          -86.07959,
          -80.602742,
          -88.984738,
          -122.367483,
          -122.076575,
          -78.103517,
          -87.654214,
          -74.006508,
          -119.397796,
          -116.754463,
          -82.604495,
          -122.1984,
          -93.75437,
          -108.144266,
          -108.604932,
          -80.719776,
          -114.455249,
          -121.958136,
          -81.416018,
          -93.248782,
          -74.093572,
          -111.991933,
          -108.604325,
          -116.794283,
          -95.450473,
          -81.387995,
          -75.902081,
          -77.733324,
          -86.116677,
          -89.760156,
          -81.663625,
          -95.766044,
          -82.428935,
          -81.047912,
          -101.725107,
          -88.978895,
          -120.20741,
          -121.897995,
          -84.383507,
          -77.846845,
          -117.812644,
          -70.540289,
          -72.759717,
          -92.93137,
          -86.438854,
          -119.178084,
          -85.445105,
          -117.882412,
          -121.266149,
          -74.444713,
          -122.148073,
          -113.601737,
          -112.556876,
          -117.66309,
          -97.65144,
          -84.071932,
          -98.66012,
          -118.368328,
          -104.519352,
          -97.166412,
          -100.392455,
          -88.259828,
          -105.526325,
          -117.085459,
          -88.118644,
          -107.340171,
          -89.533986,
          -124.188383,
          -80.252444,
          -112.05205,
          -75.206857,
          -81.787149,
          -114.131562,
          -106.956345,
          -95.603229,
          -87.973023,
          -112.11846,
          -112.734081,
          -86.18863,
          -111.897331,
          -106.070818,
          -95.565944,
          -110.831666,
          -118.061916,
          -101.931467,
          -122.881254,
          -115.388014,
          -124.010966,
          -109.473842,
          -72.565798,
          -123.037458,
          -116.820082,
          -112.435248,
          -122.31731,
          -84.285394,
          -121.308473,
          -120.23792,
          -81.054651,
          -85.19593,
          -81.034603,
          -97.33314,
          -81.517018,
          -112.198576,
          -76.756116,
          -122.625023,
          -86.814089,
          -122.151999,
          -122.150347,
          -118.174576,
          -91.43711,
          -98.0445,
          -73.239226,
          -95.421547,
          -83.550529,
          -84.247841,
          -118.472135,
          -97.165632,
          -117.812306,
          -77.29633,
          -121.210529,
          -115.790859,
          -119.794179,
          -104.45267,
          -100.24836,
          -112.269008,
          -75.56489,
          -95.760267,
          -117.529427,
          -78.13567
         ],
         "marker": {
          "autocolorscale": false,
          "cmax": 194,
          "cmin": 79,
          "color": [
           131,
           159,
           133,
           143,
           105,
           175,
           120,
           153,
           106,
           177,
           128,
           109,
           144,
           107,
           114,
           116,
           130,
           138,
           109,
           141,
           133,
           86,
           151,
           105,
           158,
           82,
           103,
           102,
           180,
           145,
           114,
           149,
           88,
           144,
           128,
           140,
           174,
           159,
           104,
           110,
           175,
           122,
           155,
           129,
           141,
           146,
           169,
           121,
           181,
           103,
           164,
           167,
           160,
           134,
           139,
           100,
           132,
           113,
           194,
           98,
           117,
           148,
           100,
           190,
           158,
           126,
           125,
           128,
           130,
           150,
           119,
           125,
           128,
           127,
           164,
           188,
           167,
           188,
           183,
           126,
           121,
           160,
           146,
           128,
           135,
           121,
           179,
           146,
           139,
           129,
           133,
           89,
           124,
           118,
           84,
           183,
           153,
           105,
           102,
           158,
           155,
           161,
           84,
           118,
           118,
           158,
           138,
           156,
           115,
           114,
           188,
           146,
           132,
           108,
           114,
           166,
           94,
           121,
           179,
           150,
           115,
           130,
           146,
           120,
           125,
           160,
           142,
           151,
           129,
           131,
           123,
           155,
           157,
           110,
           184,
           146,
           79,
           84,
           97,
           176,
           164,
           126,
           107,
           113,
           144,
           98,
           135,
           166,
           147,
           173,
           178,
           138,
           101,
           144,
           106,
           148,
           96,
           119,
           132,
           141,
           177,
           155,
           106,
           165,
           125,
           185,
           176,
           142,
           91,
           115,
           162,
           130,
           133,
           149,
           144,
           115,
           166,
           127,
           163,
           134,
           95,
           143,
           119,
           110,
           146,
           123,
           137,
           134,
           113,
           92,
           107,
           113,
           135,
           124,
           157,
           121,
           123,
           124,
           130,
           132,
           86,
           154,
           140,
           101,
           158,
           165,
           127,
           180,
           178,
           114,
           106,
           169,
           145,
           104,
           111,
           119,
           138,
           153,
           145,
           183,
           154,
           135,
           87,
           159,
           116,
           118,
           121,
           154,
           145,
           144,
           135,
           127,
           98,
           125,
           153,
           135,
           113,
           142,
           133,
           106,
           131,
           95,
           151,
           129,
           142,
           131,
           109,
           187,
           163,
           154,
           163,
           105,
           98,
           139,
           115,
           136,
           148,
           107,
           92,
           169,
           96,
           103,
           128,
           186,
           159,
           142,
           113,
           165,
           154,
           159,
           99,
           107,
           134,
           126,
           99,
           124,
           169,
           142,
           125,
           151,
           124,
           145,
           182,
           168,
           143,
           163,
           97,
           125,
           108,
           142,
           136,
           173,
           126,
           108,
           122,
           108,
           135
          ],
          "colorbar": {
           "title": {
            "text": "Charging Rate"
           }
          },
          "opacity": 0.75,
          "reversescale": false,
          "size": 5
         },
         "mode": "markers",
         "text": [
          "Albany_NY",
          "Edison_NJ",
          "Dayton_OH",
          "Boise_ID",
          "Lumberton_NC",
          "Albuquerque_NM",
          "Newark_DE",
          "West_Lebanon_NH",
          "West_Wendover_NV",
          "Salina_KS",
          "Glen_Allen_VA",
          "Beaver_UT",
          "Pleasant_Prairie_WI",
          "Independence_MO",
          "Redondo_Beach_CA",
          "Yuma_AZ",
          "Milford_CT",
          "Liverpool_NY",
          "Columbia_MO",
          "Harrisburg_PA",
          "Turkey_Lake_FL",
          "Lake_City_FL",
          "Fremont_CA",
          "Bozeman_MT",
          "Peru_IL",
          "Pendleton_OR",
          "Ann_Arbor_MI",
          "Needles_CA",
          "Lebec_CA",
          "Atlanta_GA",
          "Winnemucca_NV",
          "Queens_NY",
          "Country_Club_Hills_IL",
          "Flagstaff_AZ",
          "Norfolk_VA",
          "Uvalde_TX",
          "Tannersville_PA",
          "Centralia_WA",
          "Southampton_NY",
          "Seaside_CA",
          "Dublin_CA",
          "Lexington_KY",
          "Napa_CA",
          "Augusta_ME",
          "Nephi_UT",
          "Green_River_UT",
          "Plattsburgh_NY",
          "Hooksett_NH",
          "Cisco_TX",
          "Cranbury_NJ",
          "Charlotte_NC",
          "Indio_CA",
          "Alexandria_LA",
          "Maumee_OH",
          "Ellensburg_WA",
          "Savannah_GA",
          "Holbrook_AZ",
          "Fresno_CA",
          "Newburgh_NY",
          "Temecula_CA",
          "South_Burlington_VT",
          "Folsom_CA",
          "Gardnerville_NV",
          "London_KY",
          "Casa_Grande_AZ",
          "San_Marcos_TX",
          "Corsicana_TX",
          "El_Centro_CA",
          "Onalaska_WI",
          "Darien_CT",
          "Sandy_OR",
          "Superior_MT",
          "Manteca_CA",
          "Ocala_FL",
          "Santa_Rosa_NM",
          "Santee_SC",
          "South_Salt_Lake_City_UT",
          "Sparks_NV",
          "Allentown_PA",
          "Knoxville_TN",
          "Moab_UT",
          "Denver_CO",
          "Brandon_FL",
          "Rapid_City_SD",
          "West_Yellowstone_MT",
          "Burlington_WA",
          "Cheyenne_WY",
          "Dedham_MA",
          "West_Springfield_MA",
          "Port_St._Lucie_FL",
          "Somerset_PA",
          "San_Rafael_CA",
          "St._Joseph_MI",
          "San_Mateo_CA",
          "Vienna_VA",
          "Brentwood_TN",
          "Ukiah_CA",
          "Aurora_IL",
          "San_Diego_CA",
          "Hawthorne_CA",
          "Grove_City_OH",
          "Gallup_NM",
          "Butte_MT",
          "Grants_Pass_OR",
          "Queensbury_NY",
          "Colorado_Springs_CO",
          "Highland_Park_IL",
          "Hays_KS",
          "St._Charles_MO",
          "Paramus_NJ",
          "Lone_Tree_CO",
          "Cleveland_OH",
          "Bellmead_TX",
          "Seabrook_NH",
          "Missoula_MT",
          "Watertown_NY",
          "Atascadero_CA",
          "Murdo_SD",
          "Burbank_CA",
          "Sunnyvale_CA",
          "Laurel_MD",
          "Oakdale_MN",
          "Buffalo_NY",
          "Culver_City_CA",
          "Fountain_Valley_CA",
          "Macon_GA",
          "Baxter_MN",
          "Madison_WI",
          "Angola_IN",
          "Effingham_IL",
          "Quartzsite_AZ",
          "Gilroy_CA",
          "Kennewick_WA",
          "Hamilton_Township_NJ",
          "Duluth_MN",
          "Terre_Haute_IN",
          "Egg_Harbor_Township_NJ",
          "Las_Vegas_NV",
          "Mammoth_Lakes_CA",
          "Strasburg_VA",
          "Wickenburg_AZ",
          "Limon_CO",
          "East_Greenwich_RI",
          "Riviera_Beach_FL",
          "Erie_PA",
          "Kingman_AZ",
          "Okeechobee_FL",
          "Big_Timber_MT",
          "Tucumcari_NM",
          "Baton_Rouge_LA",
          "The_Dalles_OR",
          "Greenwich_CT",
          "Dallas_TX",
          "Perry_OK",
          "Syosset_NY",
          "Cranberry_PA",
          "Greenville_SC",
          "Tonopah_NV",
          "Mountville_SC",
          "Pearl_MS",
          "Louisville_KY",
          "Buellton_CA",
          "Bethesda_MD",
          "Victoria_TX",
          "Grand_Rapids_MI",
          "Tifton_GA",
          "Richfield_UT",
          "Columbus_TX",
          "Indianapolis_IN",
          "Triadelphia_WV",
          "Normal_IL",
          "Burlingame_CA",
          "Mountain_View_CA",
          "South_Hill_VA",
          "Chicago_IL",
          "Brooklyn_NY",
          "Buttonwillow_CA",
          "Beatty_NV",
          "Asheville_NC",
          "Corning_CA",
          "Shreveport_LA",
          "Farmington_NM",
          "Billings_MT",
          "Matthews_NC",
          "Twin_Falls_ID",
          "Vacaville_CA",
          "St._Augustine_FL",
          "Lake_Charles_LA",
          "Tinton_Falls_NJ",
          "Stanfield_AZ",
          "Grand_Junction_CO",
          "Coeur_d'Alene_ID",
          "Lindale_TX",
          "Orlando_FL",
          "Binghamton_NY",
          "Hagerstown_MD",
          "DeFuniak_Springs_FL",
          "Slidell_LA",
          "Kingsland_GA",
          "Catoosa_OK",
          "Port_Huron_MI",
          "Marathon_FL",
          "Goodland_KS",
          "Cherry_Valley_IL",
          "Truckee_CA",
          "Monterey_CA",
          "Blue_Ash_OH",
          "Rocky_Mount_NC",
          "Inyokern_CA",
          "Sagamore_Beach_MA",
          "West_Hartford_CT",
          "Hinckley_MN",
          "Bowling_Green_KY",
          "Oxnard_CA",
          "Auburn_AL",
          "Costa_Mesa_CA",
          "Roseville_CA",
          "East_Brunswick_NJ",
          "Bellevue_WA",
          "St._George_UT",
          "Buckeye_AZ",
          "San_Juan_Capistrano_CA",
          "Oklahoma_City_OK",
          "Lima_OH",
          "Weatherford_OK",
          "Ritzville_WA",
          "Trinidad_CO",
          "Denton_TX",
          "Sweetwater_TX",
          "Champaign_IL",
          "Gillette_WY",
          "Barstow_CA",
          "Mobile_AL",
          "Glenwood_Springs_CO",
          "Miner_MO",
          "Eureka_CA",
          "Plantation_FL",
          "Idaho_Falls_ID",
          "Utica_NY",
          "Fort_Myers_FL",
          "Yucca_AZ",
          "Sheridan_WY",
          "Sulphur_Springs_TX",
          "Villa_Park_IL",
          "Mayer_AZ",
          "Gila_Bend_AZ",
          "Mishawaka_IN",
          "Tempe_AZ",
          "Silverthorne_CO",
          "Huntsville_TX",
          "Price_UT",
          "Lone_Pine_CA",
          "Amarillo_TX",
          "Woodburn_OR",
          "Primm_NV",
          "Lincoln_City_OR",
          "Blanding_UT",
          "Brattleboro_VT",
          "Springfield_OR",
          "Cabazon_CA",
          "Pocatello_ID",
          "Mt._Shasta_CA",
          "Decatur_GA",
          "Bend_OR",
          "Coalinga_CA",
          "Wytheville_VA",
          "Chattanooga_TN",
          "Port_Orange_FL",
          "Wichita_KS",
          "Macedonia_OH",
          "Tremonton_UT",
          "Plymouth_NC",
          "Petaluma_CA",
          "Lafayette_IN",
          "Detroit_OR",
          "Palo_Alto_CA",
          "Mojave_CA",
          "Eau_Claire_WI",
          "Mitchell_SD",
          "Lee_MA",
          "Houston_TX",
          "East_Liberty_OH",
          "Tallahassee_FL",
          "Lovelock_NV",
          "Ardmore_OK",
          "Baker_City_OR",
          "Woodbridge_VA",
          "Rocklin_CA",
          "Elko_NV",
          "Reno_NV",
          "Lusk_WY",
          "Shamrock_TX",
          "Tooele_UT",
          "Salisbury_MD",
          "Topeka_KS",
          "Rancho_Cucamonga_CA",
          "Warsaw_NC"
         ],
         "type": "scattergeo"
        }
       ],
       "layout": {
        "geo": {
         "scope": "usa"
        },
        "mapbox": {
         "accesstoken": "pk.eyJ1IjoidmlzaGFsZ2F0dGFuaTEwIiwiYSI6ImNqazdvZjU1ajIwc24za241Ynp0b3FiMjIifQ.KOjDXUbj17uYUWgo_aFKQA",
         "bearing": 0
        },
        "showlegend": false,
        "template": {
         "data": {
          "bar": [
           {
            "error_x": {
             "color": "#2a3f5f"
            },
            "error_y": {
             "color": "#2a3f5f"
            },
            "marker": {
             "line": {
              "color": "#E5ECF6",
              "width": 0.5
             },
             "pattern": {
              "fillmode": "overlay",
              "size": 10,
              "solidity": 0.2
             }
            },
            "type": "bar"
           }
          ],
          "barpolar": [
           {
            "marker": {
             "line": {
              "color": "#E5ECF6",
              "width": 0.5
             },
             "pattern": {
              "fillmode": "overlay",
              "size": 10,
              "solidity": 0.2
             }
            },
            "type": "barpolar"
           }
          ],
          "carpet": [
           {
            "aaxis": {
             "endlinecolor": "#2a3f5f",
             "gridcolor": "white",
             "linecolor": "white",
             "minorgridcolor": "white",
             "startlinecolor": "#2a3f5f"
            },
            "baxis": {
             "endlinecolor": "#2a3f5f",
             "gridcolor": "white",
             "linecolor": "white",
             "minorgridcolor": "white",
             "startlinecolor": "#2a3f5f"
            },
            "type": "carpet"
           }
          ],
          "choropleth": [
           {
            "colorbar": {
             "outlinewidth": 0,
             "ticks": ""
            },
            "type": "choropleth"
           }
          ],
          "contour": [
           {
            "colorbar": {
             "outlinewidth": 0,
             "ticks": ""
            },
            "colorscale": [
             [
              0,
              "#0d0887"
             ],
             [
              0.1111111111111111,
              "#46039f"
             ],
             [
              0.2222222222222222,
              "#7201a8"
             ],
             [
              0.3333333333333333,
              "#9c179e"
             ],
             [
              0.4444444444444444,
              "#bd3786"
             ],
             [
              0.5555555555555556,
              "#d8576b"
             ],
             [
              0.6666666666666666,
              "#ed7953"
             ],
             [
              0.7777777777777778,
              "#fb9f3a"
             ],
             [
              0.8888888888888888,
              "#fdca26"
             ],
             [
              1,
              "#f0f921"
             ]
            ],
            "type": "contour"
           }
          ],
          "contourcarpet": [
           {
            "colorbar": {
             "outlinewidth": 0,
             "ticks": ""
            },
            "type": "contourcarpet"
           }
          ],
          "heatmap": [
           {
            "colorbar": {
             "outlinewidth": 0,
             "ticks": ""
            },
            "colorscale": [
             [
              0,
              "#0d0887"
             ],
             [
              0.1111111111111111,
              "#46039f"
             ],
             [
              0.2222222222222222,
              "#7201a8"
             ],
             [
              0.3333333333333333,
              "#9c179e"
             ],
             [
              0.4444444444444444,
              "#bd3786"
             ],
             [
              0.5555555555555556,
              "#d8576b"
             ],
             [
              0.6666666666666666,
              "#ed7953"
             ],
             [
              0.7777777777777778,
              "#fb9f3a"
             ],
             [
              0.8888888888888888,
              "#fdca26"
             ],
             [
              1,
              "#f0f921"
             ]
            ],
            "type": "heatmap"
           }
          ],
          "heatmapgl": [
           {
            "colorbar": {
             "outlinewidth": 0,
             "ticks": ""
            },
            "colorscale": [
             [
              0,
              "#0d0887"
             ],
             [
              0.1111111111111111,
              "#46039f"
             ],
             [
              0.2222222222222222,
              "#7201a8"
             ],
             [
              0.3333333333333333,
              "#9c179e"
             ],
             [
              0.4444444444444444,
              "#bd3786"
             ],
             [
              0.5555555555555556,
              "#d8576b"
             ],
             [
              0.6666666666666666,
              "#ed7953"
             ],
             [
              0.7777777777777778,
              "#fb9f3a"
             ],
             [
              0.8888888888888888,
              "#fdca26"
             ],
             [
              1,
              "#f0f921"
             ]
            ],
            "type": "heatmapgl"
           }
          ],
          "histogram": [
           {
            "marker": {
             "pattern": {
              "fillmode": "overlay",
              "size": 10,
              "solidity": 0.2
             }
            },
            "type": "histogram"
           }
          ],
          "histogram2d": [
           {
            "colorbar": {
             "outlinewidth": 0,
             "ticks": ""
            },
            "colorscale": [
             [
              0,
              "#0d0887"
             ],
             [
              0.1111111111111111,
              "#46039f"
             ],
             [
              0.2222222222222222,
              "#7201a8"
             ],
             [
              0.3333333333333333,
              "#9c179e"
             ],
             [
              0.4444444444444444,
              "#bd3786"
             ],
             [
              0.5555555555555556,
              "#d8576b"
             ],
             [
              0.6666666666666666,
              "#ed7953"
             ],
             [
              0.7777777777777778,
              "#fb9f3a"
             ],
             [
              0.8888888888888888,
              "#fdca26"
             ],
             [
              1,
              "#f0f921"
             ]
            ],
            "type": "histogram2d"
           }
          ],
          "histogram2dcontour": [
           {
            "colorbar": {
             "outlinewidth": 0,
             "ticks": ""
            },
            "colorscale": [
             [
              0,
              "#0d0887"
             ],
             [
              0.1111111111111111,
              "#46039f"
             ],
             [
              0.2222222222222222,
              "#7201a8"
             ],
             [
              0.3333333333333333,
              "#9c179e"
             ],
             [
              0.4444444444444444,
              "#bd3786"
             ],
             [
              0.5555555555555556,
              "#d8576b"
             ],
             [
              0.6666666666666666,
              "#ed7953"
             ],
             [
              0.7777777777777778,
              "#fb9f3a"
             ],
             [
              0.8888888888888888,
              "#fdca26"
             ],
             [
              1,
              "#f0f921"
             ]
            ],
            "type": "histogram2dcontour"
           }
          ],
          "mesh3d": [
           {
            "colorbar": {
             "outlinewidth": 0,
             "ticks": ""
            },
            "type": "mesh3d"
           }
          ],
          "parcoords": [
           {
            "line": {
             "colorbar": {
              "outlinewidth": 0,
              "ticks": ""
             }
            },
            "type": "parcoords"
           }
          ],
          "pie": [
           {
            "automargin": true,
            "type": "pie"
           }
          ],
          "scatter": [
           {
            "fillpattern": {
             "fillmode": "overlay",
             "size": 10,
             "solidity": 0.2
            },
            "type": "scatter"
           }
          ],
          "scatter3d": [
           {
            "line": {
             "colorbar": {
              "outlinewidth": 0,
              "ticks": ""
             }
            },
            "marker": {
             "colorbar": {
              "outlinewidth": 0,
              "ticks": ""
             }
            },
            "type": "scatter3d"
           }
          ],
          "scattercarpet": [
           {
            "marker": {
             "colorbar": {
              "outlinewidth": 0,
              "ticks": ""
             }
            },
            "type": "scattercarpet"
           }
          ],
          "scattergeo": [
           {
            "marker": {
             "colorbar": {
              "outlinewidth": 0,
              "ticks": ""
             }
            },
            "type": "scattergeo"
           }
          ],
          "scattergl": [
           {
            "marker": {
             "colorbar": {
              "outlinewidth": 0,
              "ticks": ""
             }
            },
            "type": "scattergl"
           }
          ],
          "scattermapbox": [
           {
            "marker": {
             "colorbar": {
              "outlinewidth": 0,
              "ticks": ""
             }
            },
            "type": "scattermapbox"
           }
          ],
          "scatterpolar": [
           {
            "marker": {
             "colorbar": {
              "outlinewidth": 0,
              "ticks": ""
             }
            },
            "type": "scatterpolar"
           }
          ],
          "scatterpolargl": [
           {
            "marker": {
             "colorbar": {
              "outlinewidth": 0,
              "ticks": ""
             }
            },
            "type": "scatterpolargl"
           }
          ],
          "scatterternary": [
           {
            "marker": {
             "colorbar": {
              "outlinewidth": 0,
              "ticks": ""
             }
            },
            "type": "scatterternary"
           }
          ],
          "surface": [
           {
            "colorbar": {
             "outlinewidth": 0,
             "ticks": ""
            },
            "colorscale": [
             [
              0,
              "#0d0887"
             ],
             [
              0.1111111111111111,
              "#46039f"
             ],
             [
              0.2222222222222222,
              "#7201a8"
             ],
             [
              0.3333333333333333,
              "#9c179e"
             ],
             [
              0.4444444444444444,
              "#bd3786"
             ],
             [
              0.5555555555555556,
              "#d8576b"
             ],
             [
              0.6666666666666666,
              "#ed7953"
             ],
             [
              0.7777777777777778,
              "#fb9f3a"
             ],
             [
              0.8888888888888888,
              "#fdca26"
             ],
             [
              1,
              "#f0f921"
             ]
            ],
            "type": "surface"
           }
          ],
          "table": [
           {
            "cells": {
             "fill": {
              "color": "#EBF0F8"
             },
             "line": {
              "color": "white"
             }
            },
            "header": {
             "fill": {
              "color": "#C8D4E3"
             },
             "line": {
              "color": "white"
             }
            },
            "type": "table"
           }
          ]
         },
         "layout": {
          "annotationdefaults": {
           "arrowcolor": "#2a3f5f",
           "arrowhead": 0,
           "arrowwidth": 1
          },
          "autotypenumbers": "strict",
          "coloraxis": {
           "colorbar": {
            "outlinewidth": 0,
            "ticks": ""
           }
          },
          "colorscale": {
           "diverging": [
            [
             0,
             "#8e0152"
            ],
            [
             0.1,
             "#c51b7d"
            ],
            [
             0.2,
             "#de77ae"
            ],
            [
             0.3,
             "#f1b6da"
            ],
            [
             0.4,
             "#fde0ef"
            ],
            [
             0.5,
             "#f7f7f7"
            ],
            [
             0.6,
             "#e6f5d0"
            ],
            [
             0.7,
             "#b8e186"
            ],
            [
             0.8,
             "#7fbc41"
            ],
            [
             0.9,
             "#4d9221"
            ],
            [
             1,
             "#276419"
            ]
           ],
           "sequential": [
            [
             0,
             "#0d0887"
            ],
            [
             0.1111111111111111,
             "#46039f"
            ],
            [
             0.2222222222222222,
             "#7201a8"
            ],
            [
             0.3333333333333333,
             "#9c179e"
            ],
            [
             0.4444444444444444,
             "#bd3786"
            ],
            [
             0.5555555555555556,
             "#d8576b"
            ],
            [
             0.6666666666666666,
             "#ed7953"
            ],
            [
             0.7777777777777778,
             "#fb9f3a"
            ],
            [
             0.8888888888888888,
             "#fdca26"
            ],
            [
             1,
             "#f0f921"
            ]
           ],
           "sequentialminus": [
            [
             0,
             "#0d0887"
            ],
            [
             0.1111111111111111,
             "#46039f"
            ],
            [
             0.2222222222222222,
             "#7201a8"
            ],
            [
             0.3333333333333333,
             "#9c179e"
            ],
            [
             0.4444444444444444,
             "#bd3786"
            ],
            [
             0.5555555555555556,
             "#d8576b"
            ],
            [
             0.6666666666666666,
             "#ed7953"
            ],
            [
             0.7777777777777778,
             "#fb9f3a"
            ],
            [
             0.8888888888888888,
             "#fdca26"
            ],
            [
             1,
             "#f0f921"
            ]
           ]
          },
          "colorway": [
           "#636efa",
           "#EF553B",
           "#00cc96",
           "#ab63fa",
           "#FFA15A",
           "#19d3f3",
           "#FF6692",
           "#B6E880",
           "#FF97FF",
           "#FECB52"
          ],
          "font": {
           "color": "#2a3f5f"
          },
          "geo": {
           "bgcolor": "white",
           "lakecolor": "white",
           "landcolor": "#E5ECF6",
           "showlakes": true,
           "showland": true,
           "subunitcolor": "white"
          },
          "hoverlabel": {
           "align": "left"
          },
          "hovermode": "closest",
          "mapbox": {
           "style": "light"
          },
          "paper_bgcolor": "white",
          "plot_bgcolor": "#E5ECF6",
          "polar": {
           "angularaxis": {
            "gridcolor": "white",
            "linecolor": "white",
            "ticks": ""
           },
           "bgcolor": "#E5ECF6",
           "radialaxis": {
            "gridcolor": "white",
            "linecolor": "white",
            "ticks": ""
           }
          },
          "scene": {
           "xaxis": {
            "backgroundcolor": "#E5ECF6",
            "gridcolor": "white",
            "gridwidth": 2,
            "linecolor": "white",
            "showbackground": true,
            "ticks": "",
            "zerolinecolor": "white"
           },
           "yaxis": {
            "backgroundcolor": "#E5ECF6",
            "gridcolor": "white",
            "gridwidth": 2,
            "linecolor": "white",
            "showbackground": true,
            "ticks": "",
            "zerolinecolor": "white"
           },
           "zaxis": {
            "backgroundcolor": "#E5ECF6",
            "gridcolor": "white",
            "gridwidth": 2,
            "linecolor": "white",
            "showbackground": true,
            "ticks": "",
            "zerolinecolor": "white"
           }
          },
          "shapedefaults": {
           "line": {
            "color": "#2a3f5f"
           }
          },
          "ternary": {
           "aaxis": {
            "gridcolor": "white",
            "linecolor": "white",
            "ticks": ""
           },
           "baxis": {
            "gridcolor": "white",
            "linecolor": "white",
            "ticks": ""
           },
           "bgcolor": "#E5ECF6",
           "caxis": {
            "gridcolor": "white",
            "linecolor": "white",
            "ticks": ""
           }
          },
          "title": {
           "x": 0.05
          },
          "xaxis": {
           "automargin": true,
           "gridcolor": "white",
           "linecolor": "white",
           "ticks": "",
           "title": {
            "standoff": 15
           },
           "zerolinecolor": "white",
           "zerolinewidth": 2
          },
          "yaxis": {
           "automargin": true,
           "gridcolor": "white",
           "linecolor": "white",
           "ticks": "",
           "title": {
            "standoff": 15
           },
           "zerolinecolor": "white",
           "zerolinewidth": 2
          }
         }
        },
        "title": {
         "text": "Tesla Supercharger Network"
        }
       }
      }
     },
     "metadata": {},
     "output_type": "display_data"
    },
    {
     "data": {
      "text/plain": [
       "'<div>                            <div id=\"fddcb4ce-9612-4daf-877e-7f1d77a14e05\" class=\"plotly-graph-div\" style=\"height:100%; width:100%;\"></div>            <script type=\"text/javascript\">                                    window.PLOTLYENV=window.PLOTLYENV || {};                                    if (document.getElementById(\"fddcb4ce-9612-4daf-877e-7f1d77a14e05\")) {                    Plotly.newPlot(                        \"fddcb4ce-9612-4daf-877e-7f1d77a14e05\",                        [{\"lat\":[42.710356,40.544595,39.858702,43.592251,34.667629,35.108486,39.662265,43.623536,40.738399,38.877342,37.66976,38.249149,42.518715,39.040814,33.894227,32.726686,41.245823,43.102424,38.957778,40.277134,28.514873,30.181405,37.394181,45.70007,41.348503,45.64655,42.241125,34.850835,34.98737,33.79382,40.958869,40.66179,41.585206,35.174151,36.860525,29.112378,41.045431,46.729872,40.891909,36.61697,37.703163,38.017955,38.235578,44.347885,39.678111,38.993577,44.704537,43.109066,32.374263,40.32244,35.34075,33.741291,31.312424,41.57833,46.976918,32.135885,34.922962,36.835455,41.499616,33.52421,44.46286,38.642291,38.696385,37.14916,32.878773,29.827707,32.068583,32.760837,43.879042,41.080103,45.402786,47.192149,37.782622,29.140981,34.947013,33.485858,40.720352,39.541124,40.588118,35.901319,38.573122,39.77512,27.940665,44.105601,44.656089,48.509743,41.161085,42.236461,42.130914,27.31293,40.017517,37.963357,42.056357,37.5447,38.931919,35.9696,39.1481,41.760671,32.902166,33.921063,39.877253,35.505278,45.981226,42.460931,43.328388,38.837573,42.17434,38.900543,38.78216,40.957892,39.563776,41.519427,31.582287,42.895248,46.914375,43.979585,35.486585,43.886915,34.174754,37.405893,39.095382,44.964892,42.968675,33.986765,33.70275,32.833485,46.378836,43.12669,41.699048,39.137114,33.660784,37.02445,46.198035,40.195539,46.784467,39.443345,39.393663,36.165906,37.644519,39.00496,33.970281,39.268975,41.660517,26.77825,42.049602,35.191331,27.60089,45.83626,35.15396,30.423892,45.611941,41.041538,32.832466,36.289315,40.7999,40.683508,34.729509,38.069801,34.39359,32.274159,38.211962,34.614555,39.023876,28.766853,42.914231,31.448847,38.78799,29.690066,39.702238,40.06076,40.508562,37.593182,37.415328,36.748516,41.890872,40.68331,35.400105,36.913695,35.531428,39.92646,32.478594,36.766315,45.734046,35.140024,42.597887,38.366645,29.924286,30.199071,40.226408,32.949077,39.090758,47.708479,32.470885,28.617982,42.145542,39.605859,30.720702,30.266552,30.790734,36.167631,42.998817,24.72611,39.326258,42.243893,39.327438,36.612153,39.224642,35.972904,35.646451,41.781195,41.722672,46.009797,36.955196,34.238115,32.627837,33.673925,38.771208,40.415938,47.62957,37.126463,33.443011,33.498538,35.461664,40.726668,35.53859,47.116294,37.134167,33.231373,32.450591,40.146204,44.292984,34.849124,30.671556,39.552676,36.893583,40.778885,26.108605,43.485152,43.113878,26.485574,34.879736,44.804582,33.137098,41.907415,34.32753,32.943675,41.717337,33.421676,39.631467,30.716158,39.600831,36.60059,35.189016,45.15313,35.610678,44.957751,37.625618,42.838443,44.082607,33.931316,42.899615,41.310222,33.793198,44.03563,36.254143,36.945693,35.038644,29.108571,37.60878,41.313663,41.70995,35.850587,38.242676,40.41621,44.73704,37.394011,35.068595,44.77083,43.701129,42.295745,29.980687,40.303817,30.510908,40.179476,34.179106,44.782882,38.64082,38.80086,40.836301,39.489732,42.75625,35.226765,40.684466,38.4016,39.04438,34.113584,34.994625],\"lon\":[-73.819109,-74.334113,-84.277027,-116.27942,-79.002343,-106.612804,-75.692027,-72.3258949,-114.058998,-97.618699,-77.461414,-112.652524,-87.950428,-94.369265,-118.367407,-114.619093,-73.009059,-76.187446,-92.252761,-76.823255,-81.500189,-82.679605,-122.149858,-111.06329,-89.126115,-118.68198,-83.766522,-114.624329,-118.946272,-84.39713,-117.746501,-73.79282,-87.721114,-111.663194,-76.207467,-99.75208,-75.312237,-122.977392,-72.426995,-121.843973,-121.925304,-84.420664,-122.263886,-69.786042,-111.841003,-110.140513,-73.491829,-71.477768,-99.007197,-74.4869,-80.76579,-116.215029,-92.446436,-83.664593,-120.54162,-81.212853,-110.145558,-119.91058,-74.071324,-117.152568,-73.179308,-121.18813,-119.548525,-84.11385,-111.681694,-97.979685,-96.448248,-115.532486,-91.188428,-73.46135,-122.294371,-114.888901,-121.228683,-82.193938,-104.647997,-80.475763,-111.888712,-119.442336,-75.560089,-84.149634,-109.552368,-104.794648,-82.323525,-103.212569,-111.099022,-122.338681,-104.804955,-71.178325,-72.621435,-80.406743,-79.07712,-122.515699,-86.456352,-122.29011,-77.239564,-86.804159,-123.208604,-88.309184,-117.193699,-118.330074,-83.063448,-108.828094,-112.507161,-123.324124,-73.679992,-104.824889,-87.816626,-99.319142,-90.5329,-74.073976,-104.875651,-81.493146,-97.109152,-70.869299,-114.031924,-75.954114,-120.666378,-100.716887,-118.300803,-121.987945,-76.858319,-92.961249,-78.69568,-118.390162,-117.934297,-83.625813,-94.256378,-89.306829,-85.000326,-88.563468,-114.241801,-121.56535,-119.162687,-74.641375,-92.10232,-87.331737,-74.562619,-115.138655,-118.965499,-78.337848,-112.731503,-103.708626,-71.497242,-80.109586,-80.086345,-114.065592,-80.82286,-109.94341,-103.7226,-91.154637,-121.208249,-73.671661,-96.837638,-97.325935,-73.51524,-80.108327,-82.366353,-117.232243,-82.028798,-90.151048,-85.67319,-120.188432,-77.144352,-96.978988,-85.533057,-83.53221,-112.085173,-96.537727,-86.07959,-80.602742,-88.984738,-122.367483,-122.076575,-78.103517,-87.654214,-74.006508,-119.397796,-116.754463,-82.604495,-122.1984,-93.75437,-108.144266,-108.604932,-80.719776,-114.455249,-121.958136,-81.416018,-93.248782,-74.093572,-111.991933,-108.604325,-116.794283,-95.450473,-81.387995,-75.902081,-77.733324,-86.116677,-89.760156,-81.663625,-95.766044,-82.428935,-81.047912,-101.725107,-88.978895,-120.20741,-121.897995,-84.383507,-77.846845,-117.812644,-70.540289,-72.759717,-92.93137,-86.438854,-119.178084,-85.445105,-117.882412,-121.266149,-74.444713,-122.148073,-113.601737,-112.556876,-117.66309,-97.65144,-84.071932,-98.66012,-118.368328,-104.519352,-97.166412,-100.392455,-88.259828,-105.526325,-117.085459,-88.118644,-107.340171,-89.533986,-124.188383,-80.252444,-112.05205,-75.206857,-81.787149,-114.131562,-106.956345,-95.603229,-87.973023,-112.11846,-112.734081,-86.18863,-111.897331,-106.070818,-95.565944,-110.831666,-118.061916,-101.931467,-122.881254,-115.388014,-124.010966,-109.473842,-72.565798,-123.037458,-116.820082,-112.435248,-122.31731,-84.285394,-121.308473,-120.23792,-81.054651,-85.19593,-81.034603,-97.33314,-81.517018,-112.198576,-76.756116,-122.625023,-86.814089,-122.151999,-122.150347,-118.174576,-91.43711,-98.0445,-73.239226,-95.421547,-83.550529,-84.247841,-118.472135,-97.165632,-117.812306,-77.29633,-121.210529,-115.790859,-119.794179,-104.45267,-100.24836,-112.269008,-75.56489,-95.760267,-117.529427,-78.13567],\"marker\":{\"autocolorscale\":false,\"cmax\":194.0,\"cmin\":79.0,\"color\":[131.0,159.0,133.0,143.0,105.0,175.0,120.0,153.0,106.0,177.0,128.0,109.0,144.0,107.0,114.0,116.0,130.0,138.0,109.0,141.0,133.0,86.0,151.0,105.0,158.0,82.0,103.0,102.0,180.0,145.0,114.0,149.0,88.0,144.0,128.0,140.0,174.0,159.0,104.0,110.0,175.0,122.0,155.0,129.0,141.0,146.0,169.0,121.0,181.0,103.0,164.0,167.0,160.0,134.0,139.0,100.0,132.0,113.0,194.0,98.0,117.0,148.0,100.0,190.0,158.0,126.0,125.0,128.0,130.0,150.0,119.0,125.0,128.0,127.0,164.0,188.0,167.0,188.0,183.0,126.0,121.0,160.0,146.0,128.0,135.0,121.0,179.0,146.0,139.0,129.0,133.0,89.0,124.0,118.0,84.0,183.0,153.0,105.0,102.0,158.0,155.0,161.0,84.0,118.0,118.0,158.0,138.0,156.0,115.0,114.0,188.0,146.0,132.0,108.0,114.0,166.0,94.0,121.0,179.0,150.0,115.0,130.0,146.0,120.0,125.0,160.0,142.0,151.0,129.0,131.0,123.0,155.0,157.0,110.0,184.0,146.0,79.0,84.0,97.0,176.0,164.0,126.0,107.0,113.0,144.0,98.0,135.0,166.0,147.0,173.0,178.0,138.0,101.0,144.0,106.0,148.0,96.0,119.0,132.0,141.0,177.0,155.0,106.0,165.0,125.0,185.0,176.0,142.0,91.0,115.0,162.0,130.0,133.0,149.0,144.0,115.0,166.0,127.0,163.0,134.0,95.0,143.0,119.0,110.0,146.0,123.0,137.0,134.0,113.0,92.0,107.0,113.0,135.0,124.0,157.0,121.0,123.0,124.0,130.0,132.0,86.0,154.0,140.0,101.0,158.0,165.0,127.0,180.0,178.0,114.0,106.0,169.0,145.0,104.0,111.0,119.0,138.0,153.0,145.0,183.0,154.0,135.0,87.0,159.0,116.0,118.0,121.0,154.0,145.0,144.0,135.0,127.0,98.0,125.0,153.0,135.0,113.0,142.0,133.0,106.0,131.0,95.0,151.0,129.0,142.0,131.0,109.0,187.0,163.0,154.0,163.0,105.0,98.0,139.0,115.0,136.0,148.0,107.0,92.0,169.0,96.0,103.0,128.0,186.0,159.0,142.0,113.0,165.0,154.0,159.0,99.0,107.0,134.0,126.0,99.0,124.0,169.0,142.0,125.0,151.0,124.0,145.0,182.0,168.0,143.0,163.0,97.0,125.0,108.0,142.0,136.0,173.0,126.0,108.0,122.0,108.0,135.0],\"colorbar\":{\"title\":{\"text\":\"Charging Rate\"}},\"opacity\":0.75,\"reversescale\":false,\"size\":5},\"mode\":\"markers\",\"text\":[\"Albany_NY\",\"Edison_NJ\",\"Dayton_OH\",\"Boise_ID\",\"Lumberton_NC\",\"Albuquerque_NM\",\"Newark_DE\",\"West_Lebanon_NH\",\"West_Wendover_NV\",\"Salina_KS\",\"Glen_Allen_VA\",\"Beaver_UT\",\"Pleasant_Prairie_WI\",\"Independence_MO\",\"Redondo_Beach_CA\",\"Yuma_AZ\",\"Milford_CT\",\"Liverpool_NY\",\"Columbia_MO\",\"Harrisburg_PA\",\"Turkey_Lake_FL\",\"Lake_City_FL\",\"Fremont_CA\",\"Bozeman_MT\",\"Peru_IL\",\"Pendleton_OR\",\"Ann_Arbor_MI\",\"Needles_CA\",\"Lebec_CA\",\"Atlanta_GA\",\"Winnemucca_NV\",\"Queens_NY\",\"Country_Club_Hills_IL\",\"Flagstaff_AZ\",\"Norfolk_VA\",\"Uvalde_TX\",\"Tannersville_PA\",\"Centralia_WA\",\"Southampton_NY\",\"Seaside_CA\",\"Dublin_CA\",\"Lexington_KY\",\"Napa_CA\",\"Augusta_ME\",\"Nephi_UT\",\"Green_River_UT\",\"Plattsburgh_NY\",\"Hooksett_NH\",\"Cisco_TX\",\"Cranbury_NJ\",\"Charlotte_NC\",\"Indio_CA\",\"Alexandria_LA\",\"Maumee_OH\",\"Ellensburg_WA\",\"Savannah_GA\",\"Holbrook_AZ\",\"Fresno_CA\",\"Newburgh_NY\",\"Temecula_CA\",\"South_Burlington_VT\",\"Folsom_CA\",\"Gardnerville_NV\",\"London_KY\",\"Casa_Grande_AZ\",\"San_Marcos_TX\",\"Corsicana_TX\",\"El_Centro_CA\",\"Onalaska_WI\",\"Darien_CT\",\"Sandy_OR\",\"Superior_MT\",\"Manteca_CA\",\"Ocala_FL\",\"Santa_Rosa_NM\",\"Santee_SC\",\"South_Salt_Lake_City_UT\",\"Sparks_NV\",\"Allentown_PA\",\"Knoxville_TN\",\"Moab_UT\",\"Denver_CO\",\"Brandon_FL\",\"Rapid_City_SD\",\"West_Yellowstone_MT\",\"Burlington_WA\",\"Cheyenne_WY\",\"Dedham_MA\",\"West_Springfield_MA\",\"Port_St._Lucie_FL\",\"Somerset_PA\",\"San_Rafael_CA\",\"St._Joseph_MI\",\"San_Mateo_CA\",\"Vienna_VA\",\"Brentwood_TN\",\"Ukiah_CA\",\"Aurora_IL\",\"San_Diego_CA\",\"Hawthorne_CA\",\"Grove_City_OH\",\"Gallup_NM\",\"Butte_MT\",\"Grants_Pass_OR\",\"Queensbury_NY\",\"Colorado_Springs_CO\",\"Highland_Park_IL\",\"Hays_KS\",\"St._Charles_MO\",\"Paramus_NJ\",\"Lone_Tree_CO\",\"Cleveland_OH\",\"Bellmead_TX\",\"Seabrook_NH\",\"Missoula_MT\",\"Watertown_NY\",\"Atascadero_CA\",\"Murdo_SD\",\"Burbank_CA\",\"Sunnyvale_CA\",\"Laurel_MD\",\"Oakdale_MN\",\"Buffalo_NY\",\"Culver_City_CA\",\"Fountain_Valley_CA\",\"Macon_GA\",\"Baxter_MN\",\"Madison_WI\",\"Angola_IN\",\"Effingham_IL\",\"Quartzsite_AZ\",\"Gilroy_CA\",\"Kennewick_WA\",\"Hamilton_Township_NJ\",\"Duluth_MN\",\"Terre_Haute_IN\",\"Egg_Harbor_Township_NJ\",\"Las_Vegas_NV\",\"Mammoth_Lakes_CA\",\"Strasburg_VA\",\"Wickenburg_AZ\",\"Limon_CO\",\"East_Greenwich_RI\",\"Riviera_Beach_FL\",\"Erie_PA\",\"Kingman_AZ\",\"Okeechobee_FL\",\"Big_Timber_MT\",\"Tucumcari_NM\",\"Baton_Rouge_LA\",\"The_Dalles_OR\",\"Greenwich_CT\",\"Dallas_TX\",\"Perry_OK\",\"Syosset_NY\",\"Cranberry_PA\",\"Greenville_SC\",\"Tonopah_NV\",\"Mountville_SC\",\"Pearl_MS\",\"Louisville_KY\",\"Buellton_CA\",\"Bethesda_MD\",\"Victoria_TX\",\"Grand_Rapids_MI\",\"Tifton_GA\",\"Richfield_UT\",\"Columbus_TX\",\"Indianapolis_IN\",\"Triadelphia_WV\",\"Normal_IL\",\"Burlingame_CA\",\"Mountain_View_CA\",\"South_Hill_VA\",\"Chicago_IL\",\"Brooklyn_NY\",\"Buttonwillow_CA\",\"Beatty_NV\",\"Asheville_NC\",\"Corning_CA\",\"Shreveport_LA\",\"Farmington_NM\",\"Billings_MT\",\"Matthews_NC\",\"Twin_Falls_ID\",\"Vacaville_CA\",\"St._Augustine_FL\",\"Lake_Charles_LA\",\"Tinton_Falls_NJ\",\"Stanfield_AZ\",\"Grand_Junction_CO\",\"Coeur_d\\'Alene_ID\",\"Lindale_TX\",\"Orlando_FL\",\"Binghamton_NY\",\"Hagerstown_MD\",\"DeFuniak_Springs_FL\",\"Slidell_LA\",\"Kingsland_GA\",\"Catoosa_OK\",\"Port_Huron_MI\",\"Marathon_FL\",\"Goodland_KS\",\"Cherry_Valley_IL\",\"Truckee_CA\",\"Monterey_CA\",\"Blue_Ash_OH\",\"Rocky_Mount_NC\",\"Inyokern_CA\",\"Sagamore_Beach_MA\",\"West_Hartford_CT\",\"Hinckley_MN\",\"Bowling_Green_KY\",\"Oxnard_CA\",\"Auburn_AL\",\"Costa_Mesa_CA\",\"Roseville_CA\",\"East_Brunswick_NJ\",\"Bellevue_WA\",\"St._George_UT\",\"Buckeye_AZ\",\"San_Juan_Capistrano_CA\",\"Oklahoma_City_OK\",\"Lima_OH\",\"Weatherford_OK\",\"Ritzville_WA\",\"Trinidad_CO\",\"Denton_TX\",\"Sweetwater_TX\",\"Champaign_IL\",\"Gillette_WY\",\"Barstow_CA\",\"Mobile_AL\",\"Glenwood_Springs_CO\",\"Miner_MO\",\"Eureka_CA\",\"Plantation_FL\",\"Idaho_Falls_ID\",\"Utica_NY\",\"Fort_Myers_FL\",\"Yucca_AZ\",\"Sheridan_WY\",\"Sulphur_Springs_TX\",\"Villa_Park_IL\",\"Mayer_AZ\",\"Gila_Bend_AZ\",\"Mishawaka_IN\",\"Tempe_AZ\",\"Silverthorne_CO\",\"Huntsville_TX\",\"Price_UT\",\"Lone_Pine_CA\",\"Amarillo_TX\",\"Woodburn_OR\",\"Primm_NV\",\"Lincoln_City_OR\",\"Blanding_UT\",\"Brattleboro_VT\",\"Springfield_OR\",\"Cabazon_CA\",\"Pocatello_ID\",\"Mt._Shasta_CA\",\"Decatur_GA\",\"Bend_OR\",\"Coalinga_CA\",\"Wytheville_VA\",\"Chattanooga_TN\",\"Port_Orange_FL\",\"Wichita_KS\",\"Macedonia_OH\",\"Tremonton_UT\",\"Plymouth_NC\",\"Petaluma_CA\",\"Lafayette_IN\",\"Detroit_OR\",\"Palo_Alto_CA\",\"Mojave_CA\",\"Eau_Claire_WI\",\"Mitchell_SD\",\"Lee_MA\",\"Houston_TX\",\"East_Liberty_OH\",\"Tallahassee_FL\",\"Lovelock_NV\",\"Ardmore_OK\",\"Baker_City_OR\",\"Woodbridge_VA\",\"Rocklin_CA\",\"Elko_NV\",\"Reno_NV\",\"Lusk_WY\",\"Shamrock_TX\",\"Tooele_UT\",\"Salisbury_MD\",\"Topeka_KS\",\"Rancho_Cucamonga_CA\",\"Warsaw_NC\"],\"type\":\"scattergeo\"}],                        {\"geo\":{\"scope\":\"usa\"},\"mapbox\":{\"accesstoken\":\"pk.eyJ1IjoidmlzaGFsZ2F0dGFuaTEwIiwiYSI6ImNqazdvZjU1ajIwc24za241Ynp0b3FiMjIifQ.KOjDXUbj17uYUWgo_aFKQA\",\"bearing\":0},\"showlegend\":false,\"template\":{\"data\":{\"barpolar\":[{\"marker\":{\"line\":{\"color\":\"#E5ECF6\",\"width\":0.5},\"pattern\":{\"fillmode\":\"overlay\",\"size\":10,\"solidity\":0.2}},\"type\":\"barpolar\"}],\"bar\":[{\"error_x\":{\"color\":\"#2a3f5f\"},\"error_y\":{\"color\":\"#2a3f5f\"},\"marker\":{\"line\":{\"color\":\"#E5ECF6\",\"width\":0.5},\"pattern\":{\"fillmode\":\"overlay\",\"size\":10,\"solidity\":0.2}},\"type\":\"bar\"}],\"carpet\":[{\"aaxis\":{\"endlinecolor\":\"#2a3f5f\",\"gridcolor\":\"white\",\"linecolor\":\"white\",\"minorgridcolor\":\"white\",\"startlinecolor\":\"#2a3f5f\"},\"baxis\":{\"endlinecolor\":\"#2a3f5f\",\"gridcolor\":\"white\",\"linecolor\":\"white\",\"minorgridcolor\":\"white\",\"startlinecolor\":\"#2a3f5f\"},\"type\":\"carpet\"}],\"choropleth\":[{\"colorbar\":{\"outlinewidth\":0,\"ticks\":\"\"},\"type\":\"choropleth\"}],\"contourcarpet\":[{\"colorbar\":{\"outlinewidth\":0,\"ticks\":\"\"},\"type\":\"contourcarpet\"}],\"contour\":[{\"colorbar\":{\"outlinewidth\":0,\"ticks\":\"\"},\"colorscale\":[[0.0,\"#0d0887\"],[0.1111111111111111,\"#46039f\"],[0.2222222222222222,\"#7201a8\"],[0.3333333333333333,\"#9c179e\"],[0.4444444444444444,\"#bd3786\"],[0.5555555555555556,\"#d8576b\"],[0.6666666666666666,\"#ed7953\"],[0.7777777777777778,\"#fb9f3a\"],[0.8888888888888888,\"#fdca26\"],[1.0,\"#f0f921\"]],\"type\":\"contour\"}],\"heatmapgl\":[{\"colorbar\":{\"outlinewidth\":0,\"ticks\":\"\"},\"colorscale\":[[0.0,\"#0d0887\"],[0.1111111111111111,\"#46039f\"],[0.2222222222222222,\"#7201a8\"],[0.3333333333333333,\"#9c179e\"],[0.4444444444444444,\"#bd3786\"],[0.5555555555555556,\"#d8576b\"],[0.6666666666666666,\"#ed7953\"],[0.7777777777777778,\"#fb9f3a\"],[0.8888888888888888,\"#fdca26\"],[1.0,\"#f0f921\"]],\"type\":\"heatmapgl\"}],\"heatmap\":[{\"colorbar\":{\"outlinewidth\":0,\"ticks\":\"\"},\"colorscale\":[[0.0,\"#0d0887\"],[0.1111111111111111,\"#46039f\"],[0.2222222222222222,\"#7201a8\"],[0.3333333333333333,\"#9c179e\"],[0.4444444444444444,\"#bd3786\"],[0.5555555555555556,\"#d8576b\"],[0.6666666666666666,\"#ed7953\"],[0.7777777777777778,\"#fb9f3a\"],[0.8888888888888888,\"#fdca26\"],[1.0,\"#f0f921\"]],\"type\":\"heatmap\"}],\"histogram2dcontour\":[{\"colorbar\":{\"outlinewidth\":0,\"ticks\":\"\"},\"colorscale\":[[0.0,\"#0d0887\"],[0.1111111111111111,\"#46039f\"],[0.2222222222222222,\"#7201a8\"],[0.3333333333333333,\"#9c179e\"],[0.4444444444444444,\"#bd3786\"],[0.5555555555555556,\"#d8576b\"],[0.6666666666666666,\"#ed7953\"],[0.7777777777777778,\"#fb9f3a\"],[0.8888888888888888,\"#fdca26\"],[1.0,\"#f0f921\"]],\"type\":\"histogram2dcontour\"}],\"histogram2d\":[{\"colorbar\":{\"outlinewidth\":0,\"ticks\":\"\"},\"colorscale\":[[0.0,\"#0d0887\"],[0.1111111111111111,\"#46039f\"],[0.2222222222222222,\"#7201a8\"],[0.3333333333333333,\"#9c179e\"],[0.4444444444444444,\"#bd3786\"],[0.5555555555555556,\"#d8576b\"],[0.6666666666666666,\"#ed7953\"],[0.7777777777777778,\"#fb9f3a\"],[0.8888888888888888,\"#fdca26\"],[1.0,\"#f0f921\"]],\"type\":\"histogram2d\"}],\"histogram\":[{\"marker\":{\"pattern\":{\"fillmode\":\"overlay\",\"size\":10,\"solidity\":0.2}},\"type\":\"histogram\"}],\"mesh3d\":[{\"colorbar\":{\"outlinewidth\":0,\"ticks\":\"\"},\"type\":\"mesh3d\"}],\"parcoords\":[{\"line\":{\"colorbar\":{\"outlinewidth\":0,\"ticks\":\"\"}},\"type\":\"parcoords\"}],\"pie\":[{\"automargin\":true,\"type\":\"pie\"}],\"scatter3d\":[{\"line\":{\"colorbar\":{\"outlinewidth\":0,\"ticks\":\"\"}},\"marker\":{\"colorbar\":{\"outlinewidth\":0,\"ticks\":\"\"}},\"type\":\"scatter3d\"}],\"scattercarpet\":[{\"marker\":{\"colorbar\":{\"outlinewidth\":0,\"ticks\":\"\"}},\"type\":\"scattercarpet\"}],\"scattergeo\":[{\"marker\":{\"colorbar\":{\"outlinewidth\":0,\"ticks\":\"\"}},\"type\":\"scattergeo\"}],\"scattergl\":[{\"marker\":{\"colorbar\":{\"outlinewidth\":0,\"ticks\":\"\"}},\"type\":\"scattergl\"}],\"scattermapbox\":[{\"marker\":{\"colorbar\":{\"outlinewidth\":0,\"ticks\":\"\"}},\"type\":\"scattermapbox\"}],\"scatterpolargl\":[{\"marker\":{\"colorbar\":{\"outlinewidth\":0,\"ticks\":\"\"}},\"type\":\"scatterpolargl\"}],\"scatterpolar\":[{\"marker\":{\"colorbar\":{\"outlinewidth\":0,\"ticks\":\"\"}},\"type\":\"scatterpolar\"}],\"scatter\":[{\"fillpattern\":{\"fillmode\":\"overlay\",\"size\":10,\"solidity\":0.2},\"type\":\"scatter\"}],\"scatterternary\":[{\"marker\":{\"colorbar\":{\"outlinewidth\":0,\"ticks\":\"\"}},\"type\":\"scatterternary\"}],\"surface\":[{\"colorbar\":{\"outlinewidth\":0,\"ticks\":\"\"},\"colorscale\":[[0.0,\"#0d0887\"],[0.1111111111111111,\"#46039f\"],[0.2222222222222222,\"#7201a8\"],[0.3333333333333333,\"#9c179e\"],[0.4444444444444444,\"#bd3786\"],[0.5555555555555556,\"#d8576b\"],[0.6666666666666666,\"#ed7953\"],[0.7777777777777778,\"#fb9f3a\"],[0.8888888888888888,\"#fdca26\"],[1.0,\"#f0f921\"]],\"type\":\"surface\"}],\"table\":[{\"cells\":{\"fill\":{\"color\":\"#EBF0F8\"},\"line\":{\"color\":\"white\"}},\"header\":{\"fill\":{\"color\":\"#C8D4E3\"},\"line\":{\"color\":\"white\"}},\"type\":\"table\"}]},\"layout\":{\"annotationdefaults\":{\"arrowcolor\":\"#2a3f5f\",\"arrowhead\":0,\"arrowwidth\":1},\"autotypenumbers\":\"strict\",\"coloraxis\":{\"colorbar\":{\"outlinewidth\":0,\"ticks\":\"\"}},\"colorscale\":{\"diverging\":[[0,\"#8e0152\"],[0.1,\"#c51b7d\"],[0.2,\"#de77ae\"],[0.3,\"#f1b6da\"],[0.4,\"#fde0ef\"],[0.5,\"#f7f7f7\"],[0.6,\"#e6f5d0\"],[0.7,\"#b8e186\"],[0.8,\"#7fbc41\"],[0.9,\"#4d9221\"],[1,\"#276419\"]],\"sequential\":[[0.0,\"#0d0887\"],[0.1111111111111111,\"#46039f\"],[0.2222222222222222,\"#7201a8\"],[0.3333333333333333,\"#9c179e\"],[0.4444444444444444,\"#bd3786\"],[0.5555555555555556,\"#d8576b\"],[0.6666666666666666,\"#ed7953\"],[0.7777777777777778,\"#fb9f3a\"],[0.8888888888888888,\"#fdca26\"],[1.0,\"#f0f921\"]],\"sequentialminus\":[[0.0,\"#0d0887\"],[0.1111111111111111,\"#46039f\"],[0.2222222222222222,\"#7201a8\"],[0.3333333333333333,\"#9c179e\"],[0.4444444444444444,\"#bd3786\"],[0.5555555555555556,\"#d8576b\"],[0.6666666666666666,\"#ed7953\"],[0.7777777777777778,\"#fb9f3a\"],[0.8888888888888888,\"#fdca26\"],[1.0,\"#f0f921\"]]},\"colorway\":[\"#636efa\",\"#EF553B\",\"#00cc96\",\"#ab63fa\",\"#FFA15A\",\"#19d3f3\",\"#FF6692\",\"#B6E880\",\"#FF97FF\",\"#FECB52\"],\"font\":{\"color\":\"#2a3f5f\"},\"geo\":{\"bgcolor\":\"white\",\"lakecolor\":\"white\",\"landcolor\":\"#E5ECF6\",\"showlakes\":true,\"showland\":true,\"subunitcolor\":\"white\"},\"hoverlabel\":{\"align\":\"left\"},\"hovermode\":\"closest\",\"mapbox\":{\"style\":\"light\"},\"paper_bgcolor\":\"white\",\"plot_bgcolor\":\"#E5ECF6\",\"polar\":{\"angularaxis\":{\"gridcolor\":\"white\",\"linecolor\":\"white\",\"ticks\":\"\"},\"bgcolor\":\"#E5ECF6\",\"radialaxis\":{\"gridcolor\":\"white\",\"linecolor\":\"white\",\"ticks\":\"\"}},\"scene\":{\"xaxis\":{\"backgroundcolor\":\"#E5ECF6\",\"gridcolor\":\"white\",\"gridwidth\":2,\"linecolor\":\"white\",\"showbackground\":true,\"ticks\":\"\",\"zerolinecolor\":\"white\"},\"yaxis\":{\"backgroundcolor\":\"#E5ECF6\",\"gridcolor\":\"white\",\"gridwidth\":2,\"linecolor\":\"white\",\"showbackground\":true,\"ticks\":\"\",\"zerolinecolor\":\"white\"},\"zaxis\":{\"backgroundcolor\":\"#E5ECF6\",\"gridcolor\":\"white\",\"gridwidth\":2,\"linecolor\":\"white\",\"showbackground\":true,\"ticks\":\"\",\"zerolinecolor\":\"white\"}},\"shapedefaults\":{\"line\":{\"color\":\"#2a3f5f\"}},\"ternary\":{\"aaxis\":{\"gridcolor\":\"white\",\"linecolor\":\"white\",\"ticks\":\"\"},\"baxis\":{\"gridcolor\":\"white\",\"linecolor\":\"white\",\"ticks\":\"\"},\"bgcolor\":\"#E5ECF6\",\"caxis\":{\"gridcolor\":\"white\",\"linecolor\":\"white\",\"ticks\":\"\"}},\"title\":{\"x\":0.05},\"xaxis\":{\"automargin\":true,\"gridcolor\":\"white\",\"linecolor\":\"white\",\"ticks\":\"\",\"title\":{\"standoff\":15},\"zerolinecolor\":\"white\",\"zerolinewidth\":2},\"yaxis\":{\"automargin\":true,\"gridcolor\":\"white\",\"linecolor\":\"white\",\"ticks\":\"\",\"title\":{\"standoff\":15},\"zerolinecolor\":\"white\",\"zerolinewidth\":2}}},\"title\":{\"text\":\"Tesla Supercharger Network\"}},                        {\"responsive\": true}                    )                };                            </script>        </div>'"
      ]
     },
     "execution_count": 74,
     "metadata": {},
     "output_type": "execute_result"
    }
   ],
   "source": [
    "import plotly\n",
    "import plotly.graph_objects as go\n",
    "import plotly.io as pio\n",
    "from plotly.subplots import make_subplots\n",
    "import plotly.graph_objects as go\n",
    "import plotly.express as px\n",
    "import numpy as np\n",
    "from global_vars import min_charging_rate, max_charging_rate ,decimal_places ,verbose ,velocity ,max_dist ,earth_radius, parse\n",
    "from credentials import mapbox_token\n",
    "import chart_studio\n",
    "import chart_studio.plotly as cspy\n",
    "import chart_studio.tools as tls\n",
    "\n",
    "data['val'] = data.Location.astype(str)+\": \"+data.charging_rate.astype(str)\n",
    "\n",
    "tmp = pathdf.select_dtypes(include=[np.float64])\n",
    "pathdf.loc[:, tmp.columns] = np.round(tmp,2)\n",
    "\n",
    "pathdf['val'] = \"Distance to reach \"+pathdf.Location.astype(str)+\": \"+pathdf.dist_from_parent.astype(str)+\"\\nCharging Rate of station:\"+pathdf.charging_rate.astype(str)+\"\\nCharging Time:\"+pathdf.time_spent_charging.astype(str)+\"\\nDriving Time:\"+pathdf.time_spent_driving.astype(str)+\"\\nTotal Time spent to reach station and charge:\"+pathdf.time_spent.astype(str)+\"\\nTotal Time spent cumulative:\"+pathdf.total_time_spent.astype(str)\n",
    "\n",
    "\n",
    "charging_stations  = go.Scattergeo(\n",
    "    # hoverinfo='charging_rate',\n",
    "    lon = data.lng,\n",
    "    lat = data.lat,\n",
    "    text = data.Location,\n",
    "    mode = 'markers',\n",
    "    marker = dict(\n",
    "    \tsize = 5,\n",
    "    \topacity = 0.75,\n",
    "    \treversescale = False,\n",
    "    \tautocolorscale = False,\n",
    "    \tcmin = data.charging_rate.min(),\n",
    "    \tcolor = data.charging_rate,\n",
    "    \tcmax = data.charging_rate.max(),\n",
    "    \tcolorbar_title=\"Charging Rate\")\n",
    "    )\n",
    "\n",
    "fig = go.Figure(data=charging_stations)\n",
    "\n",
    "fig.update_layout(\n",
    "        title = 'Tesla Supercharger Network',\n",
    "        geo_scope='usa',\n",
    "        showlegend=False,\n",
    "        mapbox = dict(\n",
    "        accesstoken = mapbox_token,\n",
    "        bearing=0,\n",
    "        \n",
    "\n",
    "),\n",
    "    )\n",
    "\n",
    "fig.show()\n",
    "plotly.offline.plot(fig, include_plotlyjs=False, output_type='div')\n"
   ]
  },
  {
   "cell_type": "code",
   "execution_count": 75,
   "metadata": {},
   "outputs": [
    {
     "data": {
      "application/vnd.plotly.v1+json": {
       "config": {
        "plotlyServerURL": "https://plotly.com"
       },
       "data": [
        {
         "lat": [
          41.22,
          43.63,
          43.69,
          43.8,
          43.75,
          44.28
         ],
         "lon": [
          -95.84,
          -95.6,
          -93.36,
          -90.06,
          -87.75,
          -85.4
         ],
         "marker": {
          "autocolorscale": false,
          "cmax": 194,
          "cmin": 79,
          "color": [
           165,
           108,
           92,
           138,
           116,
           111
          ],
          "colorbar": {
           "title": {
            "text": "Charging Rate"
           }
          },
          "opacity": 0.75,
          "reversescale": false,
          "size": 5
         },
         "mode": "markers+lines",
         "text": [
          "Council_Bluffs_IA",
          "Worthington_MN",
          "Albert_Lea_MN",
          "Mauston_WI",
          "Sheboygan_WI",
          "Cadillac_MI"
         ],
         "type": "scattergeo"
        }
       ],
       "layout": {
        "geo": {
         "scope": "usa"
        },
        "mapbox": {
         "accesstoken": "pk.eyJ1IjoidmlzaGFsZ2F0dGFuaTEwIiwiYSI6ImNqazdvZjU1ajIwc24za241Ynp0b3FiMjIifQ.KOjDXUbj17uYUWgo_aFKQA",
         "bearing": 0
        },
        "showlegend": false,
        "template": {
         "data": {
          "bar": [
           {
            "error_x": {
             "color": "#2a3f5f"
            },
            "error_y": {
             "color": "#2a3f5f"
            },
            "marker": {
             "line": {
              "color": "#E5ECF6",
              "width": 0.5
             },
             "pattern": {
              "fillmode": "overlay",
              "size": 10,
              "solidity": 0.2
             }
            },
            "type": "bar"
           }
          ],
          "barpolar": [
           {
            "marker": {
             "line": {
              "color": "#E5ECF6",
              "width": 0.5
             },
             "pattern": {
              "fillmode": "overlay",
              "size": 10,
              "solidity": 0.2
             }
            },
            "type": "barpolar"
           }
          ],
          "carpet": [
           {
            "aaxis": {
             "endlinecolor": "#2a3f5f",
             "gridcolor": "white",
             "linecolor": "white",
             "minorgridcolor": "white",
             "startlinecolor": "#2a3f5f"
            },
            "baxis": {
             "endlinecolor": "#2a3f5f",
             "gridcolor": "white",
             "linecolor": "white",
             "minorgridcolor": "white",
             "startlinecolor": "#2a3f5f"
            },
            "type": "carpet"
           }
          ],
          "choropleth": [
           {
            "colorbar": {
             "outlinewidth": 0,
             "ticks": ""
            },
            "type": "choropleth"
           }
          ],
          "contour": [
           {
            "colorbar": {
             "outlinewidth": 0,
             "ticks": ""
            },
            "colorscale": [
             [
              0,
              "#0d0887"
             ],
             [
              0.1111111111111111,
              "#46039f"
             ],
             [
              0.2222222222222222,
              "#7201a8"
             ],
             [
              0.3333333333333333,
              "#9c179e"
             ],
             [
              0.4444444444444444,
              "#bd3786"
             ],
             [
              0.5555555555555556,
              "#d8576b"
             ],
             [
              0.6666666666666666,
              "#ed7953"
             ],
             [
              0.7777777777777778,
              "#fb9f3a"
             ],
             [
              0.8888888888888888,
              "#fdca26"
             ],
             [
              1,
              "#f0f921"
             ]
            ],
            "type": "contour"
           }
          ],
          "contourcarpet": [
           {
            "colorbar": {
             "outlinewidth": 0,
             "ticks": ""
            },
            "type": "contourcarpet"
           }
          ],
          "heatmap": [
           {
            "colorbar": {
             "outlinewidth": 0,
             "ticks": ""
            },
            "colorscale": [
             [
              0,
              "#0d0887"
             ],
             [
              0.1111111111111111,
              "#46039f"
             ],
             [
              0.2222222222222222,
              "#7201a8"
             ],
             [
              0.3333333333333333,
              "#9c179e"
             ],
             [
              0.4444444444444444,
              "#bd3786"
             ],
             [
              0.5555555555555556,
              "#d8576b"
             ],
             [
              0.6666666666666666,
              "#ed7953"
             ],
             [
              0.7777777777777778,
              "#fb9f3a"
             ],
             [
              0.8888888888888888,
              "#fdca26"
             ],
             [
              1,
              "#f0f921"
             ]
            ],
            "type": "heatmap"
           }
          ],
          "heatmapgl": [
           {
            "colorbar": {
             "outlinewidth": 0,
             "ticks": ""
            },
            "colorscale": [
             [
              0,
              "#0d0887"
             ],
             [
              0.1111111111111111,
              "#46039f"
             ],
             [
              0.2222222222222222,
              "#7201a8"
             ],
             [
              0.3333333333333333,
              "#9c179e"
             ],
             [
              0.4444444444444444,
              "#bd3786"
             ],
             [
              0.5555555555555556,
              "#d8576b"
             ],
             [
              0.6666666666666666,
              "#ed7953"
             ],
             [
              0.7777777777777778,
              "#fb9f3a"
             ],
             [
              0.8888888888888888,
              "#fdca26"
             ],
             [
              1,
              "#f0f921"
             ]
            ],
            "type": "heatmapgl"
           }
          ],
          "histogram": [
           {
            "marker": {
             "pattern": {
              "fillmode": "overlay",
              "size": 10,
              "solidity": 0.2
             }
            },
            "type": "histogram"
           }
          ],
          "histogram2d": [
           {
            "colorbar": {
             "outlinewidth": 0,
             "ticks": ""
            },
            "colorscale": [
             [
              0,
              "#0d0887"
             ],
             [
              0.1111111111111111,
              "#46039f"
             ],
             [
              0.2222222222222222,
              "#7201a8"
             ],
             [
              0.3333333333333333,
              "#9c179e"
             ],
             [
              0.4444444444444444,
              "#bd3786"
             ],
             [
              0.5555555555555556,
              "#d8576b"
             ],
             [
              0.6666666666666666,
              "#ed7953"
             ],
             [
              0.7777777777777778,
              "#fb9f3a"
             ],
             [
              0.8888888888888888,
              "#fdca26"
             ],
             [
              1,
              "#f0f921"
             ]
            ],
            "type": "histogram2d"
           }
          ],
          "histogram2dcontour": [
           {
            "colorbar": {
             "outlinewidth": 0,
             "ticks": ""
            },
            "colorscale": [
             [
              0,
              "#0d0887"
             ],
             [
              0.1111111111111111,
              "#46039f"
             ],
             [
              0.2222222222222222,
              "#7201a8"
             ],
             [
              0.3333333333333333,
              "#9c179e"
             ],
             [
              0.4444444444444444,
              "#bd3786"
             ],
             [
              0.5555555555555556,
              "#d8576b"
             ],
             [
              0.6666666666666666,
              "#ed7953"
             ],
             [
              0.7777777777777778,
              "#fb9f3a"
             ],
             [
              0.8888888888888888,
              "#fdca26"
             ],
             [
              1,
              "#f0f921"
             ]
            ],
            "type": "histogram2dcontour"
           }
          ],
          "mesh3d": [
           {
            "colorbar": {
             "outlinewidth": 0,
             "ticks": ""
            },
            "type": "mesh3d"
           }
          ],
          "parcoords": [
           {
            "line": {
             "colorbar": {
              "outlinewidth": 0,
              "ticks": ""
             }
            },
            "type": "parcoords"
           }
          ],
          "pie": [
           {
            "automargin": true,
            "type": "pie"
           }
          ],
          "scatter": [
           {
            "fillpattern": {
             "fillmode": "overlay",
             "size": 10,
             "solidity": 0.2
            },
            "type": "scatter"
           }
          ],
          "scatter3d": [
           {
            "line": {
             "colorbar": {
              "outlinewidth": 0,
              "ticks": ""
             }
            },
            "marker": {
             "colorbar": {
              "outlinewidth": 0,
              "ticks": ""
             }
            },
            "type": "scatter3d"
           }
          ],
          "scattercarpet": [
           {
            "marker": {
             "colorbar": {
              "outlinewidth": 0,
              "ticks": ""
             }
            },
            "type": "scattercarpet"
           }
          ],
          "scattergeo": [
           {
            "marker": {
             "colorbar": {
              "outlinewidth": 0,
              "ticks": ""
             }
            },
            "type": "scattergeo"
           }
          ],
          "scattergl": [
           {
            "marker": {
             "colorbar": {
              "outlinewidth": 0,
              "ticks": ""
             }
            },
            "type": "scattergl"
           }
          ],
          "scattermapbox": [
           {
            "marker": {
             "colorbar": {
              "outlinewidth": 0,
              "ticks": ""
             }
            },
            "type": "scattermapbox"
           }
          ],
          "scatterpolar": [
           {
            "marker": {
             "colorbar": {
              "outlinewidth": 0,
              "ticks": ""
             }
            },
            "type": "scatterpolar"
           }
          ],
          "scatterpolargl": [
           {
            "marker": {
             "colorbar": {
              "outlinewidth": 0,
              "ticks": ""
             }
            },
            "type": "scatterpolargl"
           }
          ],
          "scatterternary": [
           {
            "marker": {
             "colorbar": {
              "outlinewidth": 0,
              "ticks": ""
             }
            },
            "type": "scatterternary"
           }
          ],
          "surface": [
           {
            "colorbar": {
             "outlinewidth": 0,
             "ticks": ""
            },
            "colorscale": [
             [
              0,
              "#0d0887"
             ],
             [
              0.1111111111111111,
              "#46039f"
             ],
             [
              0.2222222222222222,
              "#7201a8"
             ],
             [
              0.3333333333333333,
              "#9c179e"
             ],
             [
              0.4444444444444444,
              "#bd3786"
             ],
             [
              0.5555555555555556,
              "#d8576b"
             ],
             [
              0.6666666666666666,
              "#ed7953"
             ],
             [
              0.7777777777777778,
              "#fb9f3a"
             ],
             [
              0.8888888888888888,
              "#fdca26"
             ],
             [
              1,
              "#f0f921"
             ]
            ],
            "type": "surface"
           }
          ],
          "table": [
           {
            "cells": {
             "fill": {
              "color": "#EBF0F8"
             },
             "line": {
              "color": "white"
             }
            },
            "header": {
             "fill": {
              "color": "#C8D4E3"
             },
             "line": {
              "color": "white"
             }
            },
            "type": "table"
           }
          ]
         },
         "layout": {
          "annotationdefaults": {
           "arrowcolor": "#2a3f5f",
           "arrowhead": 0,
           "arrowwidth": 1
          },
          "autotypenumbers": "strict",
          "coloraxis": {
           "colorbar": {
            "outlinewidth": 0,
            "ticks": ""
           }
          },
          "colorscale": {
           "diverging": [
            [
             0,
             "#8e0152"
            ],
            [
             0.1,
             "#c51b7d"
            ],
            [
             0.2,
             "#de77ae"
            ],
            [
             0.3,
             "#f1b6da"
            ],
            [
             0.4,
             "#fde0ef"
            ],
            [
             0.5,
             "#f7f7f7"
            ],
            [
             0.6,
             "#e6f5d0"
            ],
            [
             0.7,
             "#b8e186"
            ],
            [
             0.8,
             "#7fbc41"
            ],
            [
             0.9,
             "#4d9221"
            ],
            [
             1,
             "#276419"
            ]
           ],
           "sequential": [
            [
             0,
             "#0d0887"
            ],
            [
             0.1111111111111111,
             "#46039f"
            ],
            [
             0.2222222222222222,
             "#7201a8"
            ],
            [
             0.3333333333333333,
             "#9c179e"
            ],
            [
             0.4444444444444444,
             "#bd3786"
            ],
            [
             0.5555555555555556,
             "#d8576b"
            ],
            [
             0.6666666666666666,
             "#ed7953"
            ],
            [
             0.7777777777777778,
             "#fb9f3a"
            ],
            [
             0.8888888888888888,
             "#fdca26"
            ],
            [
             1,
             "#f0f921"
            ]
           ],
           "sequentialminus": [
            [
             0,
             "#0d0887"
            ],
            [
             0.1111111111111111,
             "#46039f"
            ],
            [
             0.2222222222222222,
             "#7201a8"
            ],
            [
             0.3333333333333333,
             "#9c179e"
            ],
            [
             0.4444444444444444,
             "#bd3786"
            ],
            [
             0.5555555555555556,
             "#d8576b"
            ],
            [
             0.6666666666666666,
             "#ed7953"
            ],
            [
             0.7777777777777778,
             "#fb9f3a"
            ],
            [
             0.8888888888888888,
             "#fdca26"
            ],
            [
             1,
             "#f0f921"
            ]
           ]
          },
          "colorway": [
           "#636efa",
           "#EF553B",
           "#00cc96",
           "#ab63fa",
           "#FFA15A",
           "#19d3f3",
           "#FF6692",
           "#B6E880",
           "#FF97FF",
           "#FECB52"
          ],
          "font": {
           "color": "#2a3f5f"
          },
          "geo": {
           "bgcolor": "white",
           "lakecolor": "white",
           "landcolor": "#E5ECF6",
           "showlakes": true,
           "showland": true,
           "subunitcolor": "white"
          },
          "hoverlabel": {
           "align": "left"
          },
          "hovermode": "closest",
          "mapbox": {
           "style": "light"
          },
          "paper_bgcolor": "white",
          "plot_bgcolor": "#E5ECF6",
          "polar": {
           "angularaxis": {
            "gridcolor": "white",
            "linecolor": "white",
            "ticks": ""
           },
           "bgcolor": "#E5ECF6",
           "radialaxis": {
            "gridcolor": "white",
            "linecolor": "white",
            "ticks": ""
           }
          },
          "scene": {
           "xaxis": {
            "backgroundcolor": "#E5ECF6",
            "gridcolor": "white",
            "gridwidth": 2,
            "linecolor": "white",
            "showbackground": true,
            "ticks": "",
            "zerolinecolor": "white"
           },
           "yaxis": {
            "backgroundcolor": "#E5ECF6",
            "gridcolor": "white",
            "gridwidth": 2,
            "linecolor": "white",
            "showbackground": true,
            "ticks": "",
            "zerolinecolor": "white"
           },
           "zaxis": {
            "backgroundcolor": "#E5ECF6",
            "gridcolor": "white",
            "gridwidth": 2,
            "linecolor": "white",
            "showbackground": true,
            "ticks": "",
            "zerolinecolor": "white"
           }
          },
          "shapedefaults": {
           "line": {
            "color": "#2a3f5f"
           }
          },
          "ternary": {
           "aaxis": {
            "gridcolor": "white",
            "linecolor": "white",
            "ticks": ""
           },
           "baxis": {
            "gridcolor": "white",
            "linecolor": "white",
            "ticks": ""
           },
           "bgcolor": "#E5ECF6",
           "caxis": {
            "gridcolor": "white",
            "linecolor": "white",
            "ticks": ""
           }
          },
          "title": {
           "x": 0.05
          },
          "xaxis": {
           "automargin": true,
           "gridcolor": "white",
           "linecolor": "white",
           "ticks": "",
           "title": {
            "standoff": 15
           },
           "zerolinecolor": "white",
           "zerolinewidth": 2
          },
          "yaxis": {
           "automargin": true,
           "gridcolor": "white",
           "linecolor": "white",
           "ticks": "",
           "title": {
            "standoff": 15
           },
           "zerolinecolor": "white",
           "zerolinewidth": 2
          }
         }
        },
        "title": {
         "text": "Tesla Supercharger Network"
        }
       }
      }
     },
     "metadata": {},
     "output_type": "display_data"
    },
    {
     "data": {
      "text/plain": [
       "'<div>                            <div id=\"b0b4c0d3-501b-4b43-b009-a836e189a63a\" class=\"plotly-graph-div\" style=\"height:100%; width:100%;\"></div>            <script type=\"text/javascript\">                                    window.PLOTLYENV=window.PLOTLYENV || {};                                    if (document.getElementById(\"b0b4c0d3-501b-4b43-b009-a836e189a63a\")) {                    Plotly.newPlot(                        \"b0b4c0d3-501b-4b43-b009-a836e189a63a\",                        [{\"lat\":[41.22,43.63,43.69,43.8,43.75,44.28],\"lon\":[-95.84,-95.6,-93.36,-90.06,-87.75,-85.4],\"marker\":{\"autocolorscale\":false,\"cmax\":194.0,\"cmin\":79.0,\"color\":[165.0,108.0,92.0,138.0,116.0,111.0],\"colorbar\":{\"title\":{\"text\":\"Charging Rate\"}},\"opacity\":0.75,\"reversescale\":false,\"size\":5},\"mode\":\"markers+lines\",\"text\":[\"Council_Bluffs_IA\",\"Worthington_MN\",\"Albert_Lea_MN\",\"Mauston_WI\",\"Sheboygan_WI\",\"Cadillac_MI\"],\"type\":\"scattergeo\"}],                        {\"geo\":{\"scope\":\"usa\"},\"mapbox\":{\"accesstoken\":\"pk.eyJ1IjoidmlzaGFsZ2F0dGFuaTEwIiwiYSI6ImNqazdvZjU1ajIwc24za241Ynp0b3FiMjIifQ.KOjDXUbj17uYUWgo_aFKQA\",\"bearing\":0},\"showlegend\":false,\"template\":{\"data\":{\"barpolar\":[{\"marker\":{\"line\":{\"color\":\"#E5ECF6\",\"width\":0.5},\"pattern\":{\"fillmode\":\"overlay\",\"size\":10,\"solidity\":0.2}},\"type\":\"barpolar\"}],\"bar\":[{\"error_x\":{\"color\":\"#2a3f5f\"},\"error_y\":{\"color\":\"#2a3f5f\"},\"marker\":{\"line\":{\"color\":\"#E5ECF6\",\"width\":0.5},\"pattern\":{\"fillmode\":\"overlay\",\"size\":10,\"solidity\":0.2}},\"type\":\"bar\"}],\"carpet\":[{\"aaxis\":{\"endlinecolor\":\"#2a3f5f\",\"gridcolor\":\"white\",\"linecolor\":\"white\",\"minorgridcolor\":\"white\",\"startlinecolor\":\"#2a3f5f\"},\"baxis\":{\"endlinecolor\":\"#2a3f5f\",\"gridcolor\":\"white\",\"linecolor\":\"white\",\"minorgridcolor\":\"white\",\"startlinecolor\":\"#2a3f5f\"},\"type\":\"carpet\"}],\"choropleth\":[{\"colorbar\":{\"outlinewidth\":0,\"ticks\":\"\"},\"type\":\"choropleth\"}],\"contourcarpet\":[{\"colorbar\":{\"outlinewidth\":0,\"ticks\":\"\"},\"type\":\"contourcarpet\"}],\"contour\":[{\"colorbar\":{\"outlinewidth\":0,\"ticks\":\"\"},\"colorscale\":[[0.0,\"#0d0887\"],[0.1111111111111111,\"#46039f\"],[0.2222222222222222,\"#7201a8\"],[0.3333333333333333,\"#9c179e\"],[0.4444444444444444,\"#bd3786\"],[0.5555555555555556,\"#d8576b\"],[0.6666666666666666,\"#ed7953\"],[0.7777777777777778,\"#fb9f3a\"],[0.8888888888888888,\"#fdca26\"],[1.0,\"#f0f921\"]],\"type\":\"contour\"}],\"heatmapgl\":[{\"colorbar\":{\"outlinewidth\":0,\"ticks\":\"\"},\"colorscale\":[[0.0,\"#0d0887\"],[0.1111111111111111,\"#46039f\"],[0.2222222222222222,\"#7201a8\"],[0.3333333333333333,\"#9c179e\"],[0.4444444444444444,\"#bd3786\"],[0.5555555555555556,\"#d8576b\"],[0.6666666666666666,\"#ed7953\"],[0.7777777777777778,\"#fb9f3a\"],[0.8888888888888888,\"#fdca26\"],[1.0,\"#f0f921\"]],\"type\":\"heatmapgl\"}],\"heatmap\":[{\"colorbar\":{\"outlinewidth\":0,\"ticks\":\"\"},\"colorscale\":[[0.0,\"#0d0887\"],[0.1111111111111111,\"#46039f\"],[0.2222222222222222,\"#7201a8\"],[0.3333333333333333,\"#9c179e\"],[0.4444444444444444,\"#bd3786\"],[0.5555555555555556,\"#d8576b\"],[0.6666666666666666,\"#ed7953\"],[0.7777777777777778,\"#fb9f3a\"],[0.8888888888888888,\"#fdca26\"],[1.0,\"#f0f921\"]],\"type\":\"heatmap\"}],\"histogram2dcontour\":[{\"colorbar\":{\"outlinewidth\":0,\"ticks\":\"\"},\"colorscale\":[[0.0,\"#0d0887\"],[0.1111111111111111,\"#46039f\"],[0.2222222222222222,\"#7201a8\"],[0.3333333333333333,\"#9c179e\"],[0.4444444444444444,\"#bd3786\"],[0.5555555555555556,\"#d8576b\"],[0.6666666666666666,\"#ed7953\"],[0.7777777777777778,\"#fb9f3a\"],[0.8888888888888888,\"#fdca26\"],[1.0,\"#f0f921\"]],\"type\":\"histogram2dcontour\"}],\"histogram2d\":[{\"colorbar\":{\"outlinewidth\":0,\"ticks\":\"\"},\"colorscale\":[[0.0,\"#0d0887\"],[0.1111111111111111,\"#46039f\"],[0.2222222222222222,\"#7201a8\"],[0.3333333333333333,\"#9c179e\"],[0.4444444444444444,\"#bd3786\"],[0.5555555555555556,\"#d8576b\"],[0.6666666666666666,\"#ed7953\"],[0.7777777777777778,\"#fb9f3a\"],[0.8888888888888888,\"#fdca26\"],[1.0,\"#f0f921\"]],\"type\":\"histogram2d\"}],\"histogram\":[{\"marker\":{\"pattern\":{\"fillmode\":\"overlay\",\"size\":10,\"solidity\":0.2}},\"type\":\"histogram\"}],\"mesh3d\":[{\"colorbar\":{\"outlinewidth\":0,\"ticks\":\"\"},\"type\":\"mesh3d\"}],\"parcoords\":[{\"line\":{\"colorbar\":{\"outlinewidth\":0,\"ticks\":\"\"}},\"type\":\"parcoords\"}],\"pie\":[{\"automargin\":true,\"type\":\"pie\"}],\"scatter3d\":[{\"line\":{\"colorbar\":{\"outlinewidth\":0,\"ticks\":\"\"}},\"marker\":{\"colorbar\":{\"outlinewidth\":0,\"ticks\":\"\"}},\"type\":\"scatter3d\"}],\"scattercarpet\":[{\"marker\":{\"colorbar\":{\"outlinewidth\":0,\"ticks\":\"\"}},\"type\":\"scattercarpet\"}],\"scattergeo\":[{\"marker\":{\"colorbar\":{\"outlinewidth\":0,\"ticks\":\"\"}},\"type\":\"scattergeo\"}],\"scattergl\":[{\"marker\":{\"colorbar\":{\"outlinewidth\":0,\"ticks\":\"\"}},\"type\":\"scattergl\"}],\"scattermapbox\":[{\"marker\":{\"colorbar\":{\"outlinewidth\":0,\"ticks\":\"\"}},\"type\":\"scattermapbox\"}],\"scatterpolargl\":[{\"marker\":{\"colorbar\":{\"outlinewidth\":0,\"ticks\":\"\"}},\"type\":\"scatterpolargl\"}],\"scatterpolar\":[{\"marker\":{\"colorbar\":{\"outlinewidth\":0,\"ticks\":\"\"}},\"type\":\"scatterpolar\"}],\"scatter\":[{\"fillpattern\":{\"fillmode\":\"overlay\",\"size\":10,\"solidity\":0.2},\"type\":\"scatter\"}],\"scatterternary\":[{\"marker\":{\"colorbar\":{\"outlinewidth\":0,\"ticks\":\"\"}},\"type\":\"scatterternary\"}],\"surface\":[{\"colorbar\":{\"outlinewidth\":0,\"ticks\":\"\"},\"colorscale\":[[0.0,\"#0d0887\"],[0.1111111111111111,\"#46039f\"],[0.2222222222222222,\"#7201a8\"],[0.3333333333333333,\"#9c179e\"],[0.4444444444444444,\"#bd3786\"],[0.5555555555555556,\"#d8576b\"],[0.6666666666666666,\"#ed7953\"],[0.7777777777777778,\"#fb9f3a\"],[0.8888888888888888,\"#fdca26\"],[1.0,\"#f0f921\"]],\"type\":\"surface\"}],\"table\":[{\"cells\":{\"fill\":{\"color\":\"#EBF0F8\"},\"line\":{\"color\":\"white\"}},\"header\":{\"fill\":{\"color\":\"#C8D4E3\"},\"line\":{\"color\":\"white\"}},\"type\":\"table\"}]},\"layout\":{\"annotationdefaults\":{\"arrowcolor\":\"#2a3f5f\",\"arrowhead\":0,\"arrowwidth\":1},\"autotypenumbers\":\"strict\",\"coloraxis\":{\"colorbar\":{\"outlinewidth\":0,\"ticks\":\"\"}},\"colorscale\":{\"diverging\":[[0,\"#8e0152\"],[0.1,\"#c51b7d\"],[0.2,\"#de77ae\"],[0.3,\"#f1b6da\"],[0.4,\"#fde0ef\"],[0.5,\"#f7f7f7\"],[0.6,\"#e6f5d0\"],[0.7,\"#b8e186\"],[0.8,\"#7fbc41\"],[0.9,\"#4d9221\"],[1,\"#276419\"]],\"sequential\":[[0.0,\"#0d0887\"],[0.1111111111111111,\"#46039f\"],[0.2222222222222222,\"#7201a8\"],[0.3333333333333333,\"#9c179e\"],[0.4444444444444444,\"#bd3786\"],[0.5555555555555556,\"#d8576b\"],[0.6666666666666666,\"#ed7953\"],[0.7777777777777778,\"#fb9f3a\"],[0.8888888888888888,\"#fdca26\"],[1.0,\"#f0f921\"]],\"sequentialminus\":[[0.0,\"#0d0887\"],[0.1111111111111111,\"#46039f\"],[0.2222222222222222,\"#7201a8\"],[0.3333333333333333,\"#9c179e\"],[0.4444444444444444,\"#bd3786\"],[0.5555555555555556,\"#d8576b\"],[0.6666666666666666,\"#ed7953\"],[0.7777777777777778,\"#fb9f3a\"],[0.8888888888888888,\"#fdca26\"],[1.0,\"#f0f921\"]]},\"colorway\":[\"#636efa\",\"#EF553B\",\"#00cc96\",\"#ab63fa\",\"#FFA15A\",\"#19d3f3\",\"#FF6692\",\"#B6E880\",\"#FF97FF\",\"#FECB52\"],\"font\":{\"color\":\"#2a3f5f\"},\"geo\":{\"bgcolor\":\"white\",\"lakecolor\":\"white\",\"landcolor\":\"#E5ECF6\",\"showlakes\":true,\"showland\":true,\"subunitcolor\":\"white\"},\"hoverlabel\":{\"align\":\"left\"},\"hovermode\":\"closest\",\"mapbox\":{\"style\":\"light\"},\"paper_bgcolor\":\"white\",\"plot_bgcolor\":\"#E5ECF6\",\"polar\":{\"angularaxis\":{\"gridcolor\":\"white\",\"linecolor\":\"white\",\"ticks\":\"\"},\"bgcolor\":\"#E5ECF6\",\"radialaxis\":{\"gridcolor\":\"white\",\"linecolor\":\"white\",\"ticks\":\"\"}},\"scene\":{\"xaxis\":{\"backgroundcolor\":\"#E5ECF6\",\"gridcolor\":\"white\",\"gridwidth\":2,\"linecolor\":\"white\",\"showbackground\":true,\"ticks\":\"\",\"zerolinecolor\":\"white\"},\"yaxis\":{\"backgroundcolor\":\"#E5ECF6\",\"gridcolor\":\"white\",\"gridwidth\":2,\"linecolor\":\"white\",\"showbackground\":true,\"ticks\":\"\",\"zerolinecolor\":\"white\"},\"zaxis\":{\"backgroundcolor\":\"#E5ECF6\",\"gridcolor\":\"white\",\"gridwidth\":2,\"linecolor\":\"white\",\"showbackground\":true,\"ticks\":\"\",\"zerolinecolor\":\"white\"}},\"shapedefaults\":{\"line\":{\"color\":\"#2a3f5f\"}},\"ternary\":{\"aaxis\":{\"gridcolor\":\"white\",\"linecolor\":\"white\",\"ticks\":\"\"},\"baxis\":{\"gridcolor\":\"white\",\"linecolor\":\"white\",\"ticks\":\"\"},\"bgcolor\":\"#E5ECF6\",\"caxis\":{\"gridcolor\":\"white\",\"linecolor\":\"white\",\"ticks\":\"\"}},\"title\":{\"x\":0.05},\"xaxis\":{\"automargin\":true,\"gridcolor\":\"white\",\"linecolor\":\"white\",\"ticks\":\"\",\"title\":{\"standoff\":15},\"zerolinecolor\":\"white\",\"zerolinewidth\":2},\"yaxis\":{\"automargin\":true,\"gridcolor\":\"white\",\"linecolor\":\"white\",\"ticks\":\"\",\"title\":{\"standoff\":15},\"zerolinecolor\":\"white\",\"zerolinewidth\":2}}},\"title\":{\"text\":\"Tesla Supercharger Network\"}},                        {\"responsive\": true}                    )                };                            </script>        </div>'"
      ]
     },
     "execution_count": 75,
     "metadata": {},
     "output_type": "execute_result"
    }
   ],
   "source": [
    "chosen_charging_stations  = go.Scattergeo(\n",
    "    # hoverinfo='charging_rate',\n",
    "    lon = pathdf.lng,\n",
    "    lat = pathdf.lat,\n",
    "    text = pathdf.Location,\n",
    "    mode = 'markers+lines',\n",
    "    marker = dict(\n",
    "    \tsize = 5,\n",
    "    \topacity = 0.75,\n",
    "    \treversescale = False,\n",
    "    \tautocolorscale = False,\n",
    "    \tcmin = data.charging_rate.min(),\n",
    "    \tcolor = pathdf.charging_rate,\n",
    "    \tcmax = data.charging_rate.max(),\n",
    "    \tcolorbar_title=\"Charging Rate\")\n",
    "    )\n",
    "\n",
    "fig = go.Figure(data=chosen_charging_stations)\n",
    "\n",
    "fig.update_layout(\n",
    "        title = 'Tesla Supercharger Network',\n",
    "        geo_scope='usa',\n",
    "        showlegend=False,\n",
    "        mapbox = dict(\n",
    "        accesstoken = mapbox_token,\n",
    "        bearing=0,\n",
    "        \n",
    "\n",
    "),\n",
    "    )\n",
    "\n",
    "fig.show()\n",
    "plotly.offline.plot(fig, include_plotlyjs=False, output_type='div')"
   ]
  },
  {
   "cell_type": "code",
   "execution_count": 76,
   "metadata": {},
   "outputs": [
    {
     "data": {
      "application/vnd.plotly.v1+json": {
       "config": {
        "plotlyServerURL": "https://plotly.com"
       },
       "data": [
        {
         "lat": [
          42.710356,
          40.544595,
          39.858702,
          43.592251,
          34.667629,
          35.108486,
          39.662265,
          43.623536,
          40.738399,
          38.877342,
          37.66976,
          38.249149,
          42.518715,
          39.040814,
          33.894227,
          32.726686,
          41.245823,
          43.102424,
          38.957778,
          40.277134,
          28.514873,
          30.181405,
          37.394181,
          45.70007,
          41.348503,
          45.64655,
          42.241125,
          34.850835,
          34.98737,
          33.79382,
          40.958869,
          40.66179,
          41.585206,
          35.174151,
          36.860525,
          29.112378,
          41.045431,
          46.729872,
          40.891909,
          36.61697,
          37.703163,
          38.017955,
          38.235578,
          44.347885,
          39.678111,
          38.993577,
          44.704537,
          43.109066,
          32.374263,
          40.32244,
          35.34075,
          33.741291,
          31.312424,
          41.57833,
          46.976918,
          32.135885,
          34.922962,
          36.835455,
          41.499616,
          33.52421,
          44.46286,
          38.642291,
          38.696385,
          37.14916,
          32.878773,
          29.827707,
          32.068583,
          32.760837,
          43.879042,
          41.080103,
          45.402786,
          47.192149,
          37.782622,
          29.140981,
          34.947013,
          33.485858,
          40.720352,
          39.541124,
          40.588118,
          35.901319,
          38.573122,
          39.77512,
          27.940665,
          44.105601,
          44.656089,
          48.509743,
          41.161085,
          42.236461,
          42.130914,
          27.31293,
          40.017517,
          37.963357,
          42.056357,
          37.5447,
          38.931919,
          35.9696,
          39.1481,
          41.760671,
          32.902166,
          33.921063,
          39.877253,
          35.505278,
          45.981226,
          42.460931,
          43.328388,
          38.837573,
          42.17434,
          38.900543,
          38.78216,
          40.957892,
          39.563776,
          41.519427,
          31.582287,
          42.895248,
          46.914375,
          43.979585,
          35.486585,
          43.886915,
          34.174754,
          37.405893,
          39.095382,
          44.964892,
          42.968675,
          33.986765,
          33.70275,
          32.833485,
          46.378836,
          43.12669,
          41.699048,
          39.137114,
          33.660784,
          37.02445,
          46.198035,
          40.195539,
          46.784467,
          39.443345,
          39.393663,
          36.165906,
          37.644519,
          39.00496,
          33.970281,
          39.268975,
          41.660517,
          26.77825,
          42.049602,
          35.191331,
          27.60089,
          45.83626,
          35.15396,
          30.423892,
          45.611941,
          41.041538,
          32.832466,
          36.289315,
          40.7999,
          40.683508,
          34.729509,
          38.069801,
          34.39359,
          32.274159,
          38.211962,
          34.614555,
          39.023876,
          28.766853,
          42.914231,
          31.448847,
          38.78799,
          29.690066,
          39.702238,
          40.06076,
          40.508562,
          37.593182,
          37.415328,
          36.748516,
          41.890872,
          40.68331,
          35.400105,
          36.913695,
          35.531428,
          39.92646,
          32.478594,
          36.766315,
          45.734046,
          35.140024,
          42.597887,
          38.366645,
          29.924286,
          30.199071,
          40.226408,
          32.949077,
          39.090758,
          47.708479,
          32.470885,
          28.617982,
          42.145542,
          39.605859,
          30.720702,
          30.266552,
          30.790734,
          36.167631,
          42.998817,
          24.72611,
          39.326258,
          42.243893,
          39.327438,
          36.612153,
          39.224642,
          35.972904,
          35.646451,
          41.781195,
          41.722672,
          46.009797,
          36.955196,
          34.238115,
          32.627837,
          33.673925,
          38.771208,
          40.415938,
          47.62957,
          37.126463,
          33.443011,
          33.498538,
          35.461664,
          40.726668,
          35.53859,
          47.116294,
          37.134167,
          33.231373,
          32.450591,
          40.146204,
          44.292984,
          34.849124,
          30.671556,
          39.552676,
          36.893583,
          40.778885,
          26.108605,
          43.485152,
          43.113878,
          26.485574,
          34.879736,
          44.804582,
          33.137098,
          41.907415,
          34.32753,
          32.943675,
          41.717337,
          33.421676,
          39.631467,
          30.716158,
          39.600831,
          36.60059,
          35.189016,
          45.15313,
          35.610678,
          44.957751,
          37.625618,
          42.838443,
          44.082607,
          33.931316,
          42.899615,
          41.310222,
          33.793198,
          44.03563,
          36.254143,
          36.945693,
          35.038644,
          29.108571,
          37.60878,
          41.313663,
          41.70995,
          35.850587,
          38.242676,
          40.41621,
          44.73704,
          37.394011,
          35.068595,
          44.77083,
          43.701129,
          42.295745,
          29.980687,
          40.303817,
          30.510908,
          40.179476,
          34.179106,
          44.782882,
          38.64082,
          38.80086,
          40.836301,
          39.489732,
          42.75625,
          35.226765,
          40.684466,
          38.4016,
          39.04438,
          34.113584,
          34.994625
         ],
         "lon": [
          -73.819109,
          -74.334113,
          -84.277027,
          -116.27942,
          -79.002343,
          -106.612804,
          -75.692027,
          -72.3258949,
          -114.058998,
          -97.618699,
          -77.461414,
          -112.652524,
          -87.950428,
          -94.369265,
          -118.367407,
          -114.619093,
          -73.009059,
          -76.187446,
          -92.252761,
          -76.823255,
          -81.500189,
          -82.679605,
          -122.149858,
          -111.06329,
          -89.126115,
          -118.68198,
          -83.766522,
          -114.624329,
          -118.946272,
          -84.39713,
          -117.746501,
          -73.79282,
          -87.721114,
          -111.663194,
          -76.207467,
          -99.75208,
          -75.312237,
          -122.977392,
          -72.426995,
          -121.843973,
          -121.925304,
          -84.420664,
          -122.263886,
          -69.786042,
          -111.841003,
          -110.140513,
          -73.491829,
          -71.477768,
          -99.007197,
          -74.4869,
          -80.76579,
          -116.215029,
          -92.446436,
          -83.664593,
          -120.54162,
          -81.212853,
          -110.145558,
          -119.91058,
          -74.071324,
          -117.152568,
          -73.179308,
          -121.18813,
          -119.548525,
          -84.11385,
          -111.681694,
          -97.979685,
          -96.448248,
          -115.532486,
          -91.188428,
          -73.46135,
          -122.294371,
          -114.888901,
          -121.228683,
          -82.193938,
          -104.647997,
          -80.475763,
          -111.888712,
          -119.442336,
          -75.560089,
          -84.149634,
          -109.552368,
          -104.794648,
          -82.323525,
          -103.212569,
          -111.099022,
          -122.338681,
          -104.804955,
          -71.178325,
          -72.621435,
          -80.406743,
          -79.07712,
          -122.515699,
          -86.456352,
          -122.29011,
          -77.239564,
          -86.804159,
          -123.208604,
          -88.309184,
          -117.193699,
          -118.330074,
          -83.063448,
          -108.828094,
          -112.507161,
          -123.324124,
          -73.679992,
          -104.824889,
          -87.816626,
          -99.319142,
          -90.5329,
          -74.073976,
          -104.875651,
          -81.493146,
          -97.109152,
          -70.869299,
          -114.031924,
          -75.954114,
          -120.666378,
          -100.716887,
          -118.300803,
          -121.987945,
          -76.858319,
          -92.961249,
          -78.69568,
          -118.390162,
          -117.934297,
          -83.625813,
          -94.256378,
          -89.306829,
          -85.000326,
          -88.563468,
          -114.241801,
          -121.56535,
          -119.162687,
          -74.641375,
          -92.10232,
          -87.331737,
          -74.562619,
          -115.138655,
          -118.965499,
          -78.337848,
          -112.731503,
          -103.708626,
          -71.497242,
          -80.109586,
          -80.086345,
          -114.065592,
          -80.82286,
          -109.94341,
          -103.7226,
          -91.154637,
          -121.208249,
          -73.671661,
          -96.837638,
          -97.325935,
          -73.51524,
          -80.108327,
          -82.366353,
          -117.232243,
          -82.028798,
          -90.151048,
          -85.67319,
          -120.188432,
          -77.144352,
          -96.978988,
          -85.533057,
          -83.53221,
          -112.085173,
          -96.537727,
          -86.07959,
          -80.602742,
          -88.984738,
          -122.367483,
          -122.076575,
          -78.103517,
          -87.654214,
          -74.006508,
          -119.397796,
          -116.754463,
          -82.604495,
          -122.1984,
          -93.75437,
          -108.144266,
          -108.604932,
          -80.719776,
          -114.455249,
          -121.958136,
          -81.416018,
          -93.248782,
          -74.093572,
          -111.991933,
          -108.604325,
          -116.794283,
          -95.450473,
          -81.387995,
          -75.902081,
          -77.733324,
          -86.116677,
          -89.760156,
          -81.663625,
          -95.766044,
          -82.428935,
          -81.047912,
          -101.725107,
          -88.978895,
          -120.20741,
          -121.897995,
          -84.383507,
          -77.846845,
          -117.812644,
          -70.540289,
          -72.759717,
          -92.93137,
          -86.438854,
          -119.178084,
          -85.445105,
          -117.882412,
          -121.266149,
          -74.444713,
          -122.148073,
          -113.601737,
          -112.556876,
          -117.66309,
          -97.65144,
          -84.071932,
          -98.66012,
          -118.368328,
          -104.519352,
          -97.166412,
          -100.392455,
          -88.259828,
          -105.526325,
          -117.085459,
          -88.118644,
          -107.340171,
          -89.533986,
          -124.188383,
          -80.252444,
          -112.05205,
          -75.206857,
          -81.787149,
          -114.131562,
          -106.956345,
          -95.603229,
          -87.973023,
          -112.11846,
          -112.734081,
          -86.18863,
          -111.897331,
          -106.070818,
          -95.565944,
          -110.831666,
          -118.061916,
          -101.931467,
          -122.881254,
          -115.388014,
          -124.010966,
          -109.473842,
          -72.565798,
          -123.037458,
          -116.820082,
          -112.435248,
          -122.31731,
          -84.285394,
          -121.308473,
          -120.23792,
          -81.054651,
          -85.19593,
          -81.034603,
          -97.33314,
          -81.517018,
          -112.198576,
          -76.756116,
          -122.625023,
          -86.814089,
          -122.151999,
          -122.150347,
          -118.174576,
          -91.43711,
          -98.0445,
          -73.239226,
          -95.421547,
          -83.550529,
          -84.247841,
          -118.472135,
          -97.165632,
          -117.812306,
          -77.29633,
          -121.210529,
          -115.790859,
          -119.794179,
          -104.45267,
          -100.24836,
          -112.269008,
          -75.56489,
          -95.760267,
          -117.529427,
          -78.13567
         ],
         "marker": {
          "allowoverlap": true,
          "cmax": 194,
          "cmin": 79,
          "size": 5,
          "symbol": [
           "fuel",
           "fuel",
           "fuel",
           "fuel",
           "fuel",
           "fuel",
           "fuel",
           "fuel",
           "fuel",
           "fuel",
           "fuel",
           "fuel",
           "fuel",
           "fuel",
           "fuel",
           "fuel",
           "fuel",
           "fuel",
           "fuel",
           "fuel",
           "fuel",
           "fuel",
           "fuel",
           "fuel",
           "fuel",
           "fuel",
           "fuel",
           "fuel",
           "fuel",
           "fuel",
           "fuel",
           "fuel",
           "fuel",
           "fuel",
           "fuel",
           "fuel",
           "fuel",
           "fuel",
           "fuel",
           "fuel",
           "fuel",
           "fuel",
           "fuel",
           "fuel",
           "fuel",
           "fuel",
           "fuel",
           "fuel",
           "fuel",
           "fuel",
           "fuel",
           "fuel",
           "fuel",
           "fuel",
           "fuel",
           "fuel",
           "fuel",
           "fuel",
           "fuel",
           "fuel",
           "fuel",
           "fuel",
           "fuel",
           "fuel",
           "fuel",
           "fuel",
           "fuel",
           "fuel",
           "fuel",
           "fuel",
           "fuel",
           "fuel",
           "fuel",
           "fuel",
           "fuel",
           "fuel",
           "fuel",
           "fuel",
           "fuel",
           "fuel",
           "fuel",
           "fuel",
           "fuel",
           "fuel",
           "fuel",
           "fuel",
           "fuel",
           "fuel",
           "fuel",
           "fuel",
           "fuel",
           "fuel",
           "fuel",
           "fuel",
           "fuel",
           "fuel",
           "fuel",
           "fuel",
           "fuel",
           "fuel",
           "fuel",
           "fuel",
           "fuel",
           "fuel",
           "fuel",
           "fuel",
           "fuel",
           "fuel",
           "fuel",
           "fuel",
           "fuel",
           "fuel",
           "fuel",
           "fuel",
           "fuel",
           "fuel",
           "fuel",
           "fuel",
           "fuel",
           "fuel",
           "fuel",
           "fuel",
           "fuel",
           "fuel",
           "fuel",
           "fuel",
           "fuel",
           "fuel",
           "fuel",
           "fuel",
           "fuel",
           "fuel",
           "fuel",
           "fuel",
           "fuel",
           "fuel",
           "fuel",
           "fuel",
           "fuel",
           "fuel",
           "fuel",
           "fuel",
           "fuel",
           "fuel",
           "fuel",
           "fuel",
           "fuel",
           "fuel",
           "fuel",
           "fuel",
           "fuel",
           "fuel",
           "fuel",
           "fuel",
           "fuel",
           "fuel",
           "fuel",
           "fuel",
           "fuel",
           "fuel",
           "fuel",
           "fuel",
           "fuel",
           "fuel",
           "fuel",
           "fuel",
           "fuel",
           "fuel",
           "fuel",
           "fuel",
           "fuel",
           "fuel",
           "fuel",
           "fuel",
           "fuel",
           "fuel",
           "fuel",
           "fuel",
           "fuel",
           "fuel",
           "fuel",
           "fuel",
           "fuel",
           "fuel",
           "fuel",
           "fuel",
           "fuel",
           "fuel",
           "fuel",
           "fuel",
           "fuel",
           "fuel",
           "fuel",
           "fuel",
           "fuel",
           "fuel",
           "fuel",
           "fuel",
           "fuel",
           "fuel",
           "fuel",
           "fuel",
           "fuel",
           "fuel",
           "fuel",
           "fuel",
           "fuel",
           "fuel",
           "fuel",
           "fuel",
           "fuel",
           "fuel",
           "fuel",
           "fuel",
           "fuel",
           "fuel",
           "fuel",
           "fuel",
           "fuel",
           "fuel",
           "fuel",
           "fuel",
           "fuel",
           "fuel",
           "fuel",
           "fuel",
           "fuel",
           "fuel",
           "fuel",
           "fuel",
           "fuel",
           "fuel",
           "fuel",
           "fuel",
           "fuel",
           "fuel",
           "fuel",
           "fuel",
           "fuel",
           "fuel",
           "fuel",
           "fuel",
           "fuel",
           "fuel",
           "fuel",
           "fuel",
           "fuel",
           "fuel",
           "fuel",
           "fuel",
           "fuel",
           "fuel",
           "fuel",
           "fuel",
           "fuel",
           "fuel",
           "fuel",
           "fuel",
           "fuel",
           "fuel",
           "fuel",
           "fuel",
           "fuel",
           "fuel",
           "fuel",
           "fuel",
           "fuel",
           "fuel",
           "fuel",
           "fuel",
           "fuel",
           "fuel",
           "fuel",
           "fuel",
           "fuel",
           "fuel",
           "fuel",
           "fuel",
           "fuel",
           "fuel",
           "fuel",
           "fuel",
           "fuel",
           "fuel",
           "fuel",
           "fuel",
           "fuel",
           "fuel",
           "fuel",
           "fuel",
           "fuel",
           "fuel",
           "fuel",
           "fuel",
           "fuel",
           "fuel",
           "fuel"
          ]
         },
         "mode": "markers",
         "name": "Station",
         "showlegend": false,
         "text": [
          "Council_Bluffs_IA",
          "Worthington_MN",
          "Albert_Lea_MN",
          "Mauston_WI",
          "Sheboygan_WI",
          "Cadillac_MI"
         ],
         "type": "scattermapbox"
        },
        {
         "lat": [
          41.22,
          43.63,
          43.69,
          43.8,
          43.75,
          44.28
         ],
         "lon": [
          -95.84,
          -95.6,
          -93.36,
          -90.06,
          -87.75,
          -85.4
         ],
         "marker": {
          "allowoverlap": true,
          "size": 8,
          "symbol": [
           "fuel",
           "fuel",
           "fuel",
           "fuel",
           "fuel",
           "fuel"
          ]
         },
         "mode": "markers+lines",
         "name": "Station",
         "showlegend": false,
         "text": [
          "Council_Bluffs_IA",
          "Worthington_MN",
          "Albert_Lea_MN",
          "Mauston_WI",
          "Sheboygan_WI",
          "Cadillac_MI"
         ],
         "type": "scattermapbox"
        }
       ],
       "layout": {
        "geo": {
         "scope": "usa"
        },
        "mapbox": {
         "accesstoken": "pk.eyJ1IjoidmlzaGFsZ2F0dGFuaTEwIiwiYSI6ImNqazdvZjU1ajIwc24za241Ynp0b3FiMjIifQ.KOjDXUbj17uYUWgo_aFKQA",
         "bearing": 0,
         "center": {
          "lat": 38.92,
          "lon": -99.3
         },
         "pitch": 0,
         "zoom": 2.5
        },
        "showlegend": false,
        "template": {
         "data": {
          "bar": [
           {
            "error_x": {
             "color": "#2a3f5f"
            },
            "error_y": {
             "color": "#2a3f5f"
            },
            "marker": {
             "line": {
              "color": "#E5ECF6",
              "width": 0.5
             },
             "pattern": {
              "fillmode": "overlay",
              "size": 10,
              "solidity": 0.2
             }
            },
            "type": "bar"
           }
          ],
          "barpolar": [
           {
            "marker": {
             "line": {
              "color": "#E5ECF6",
              "width": 0.5
             },
             "pattern": {
              "fillmode": "overlay",
              "size": 10,
              "solidity": 0.2
             }
            },
            "type": "barpolar"
           }
          ],
          "carpet": [
           {
            "aaxis": {
             "endlinecolor": "#2a3f5f",
             "gridcolor": "white",
             "linecolor": "white",
             "minorgridcolor": "white",
             "startlinecolor": "#2a3f5f"
            },
            "baxis": {
             "endlinecolor": "#2a3f5f",
             "gridcolor": "white",
             "linecolor": "white",
             "minorgridcolor": "white",
             "startlinecolor": "#2a3f5f"
            },
            "type": "carpet"
           }
          ],
          "choropleth": [
           {
            "colorbar": {
             "outlinewidth": 0,
             "ticks": ""
            },
            "type": "choropleth"
           }
          ],
          "contour": [
           {
            "colorbar": {
             "outlinewidth": 0,
             "ticks": ""
            },
            "colorscale": [
             [
              0,
              "#0d0887"
             ],
             [
              0.1111111111111111,
              "#46039f"
             ],
             [
              0.2222222222222222,
              "#7201a8"
             ],
             [
              0.3333333333333333,
              "#9c179e"
             ],
             [
              0.4444444444444444,
              "#bd3786"
             ],
             [
              0.5555555555555556,
              "#d8576b"
             ],
             [
              0.6666666666666666,
              "#ed7953"
             ],
             [
              0.7777777777777778,
              "#fb9f3a"
             ],
             [
              0.8888888888888888,
              "#fdca26"
             ],
             [
              1,
              "#f0f921"
             ]
            ],
            "type": "contour"
           }
          ],
          "contourcarpet": [
           {
            "colorbar": {
             "outlinewidth": 0,
             "ticks": ""
            },
            "type": "contourcarpet"
           }
          ],
          "heatmap": [
           {
            "colorbar": {
             "outlinewidth": 0,
             "ticks": ""
            },
            "colorscale": [
             [
              0,
              "#0d0887"
             ],
             [
              0.1111111111111111,
              "#46039f"
             ],
             [
              0.2222222222222222,
              "#7201a8"
             ],
             [
              0.3333333333333333,
              "#9c179e"
             ],
             [
              0.4444444444444444,
              "#bd3786"
             ],
             [
              0.5555555555555556,
              "#d8576b"
             ],
             [
              0.6666666666666666,
              "#ed7953"
             ],
             [
              0.7777777777777778,
              "#fb9f3a"
             ],
             [
              0.8888888888888888,
              "#fdca26"
             ],
             [
              1,
              "#f0f921"
             ]
            ],
            "type": "heatmap"
           }
          ],
          "heatmapgl": [
           {
            "colorbar": {
             "outlinewidth": 0,
             "ticks": ""
            },
            "colorscale": [
             [
              0,
              "#0d0887"
             ],
             [
              0.1111111111111111,
              "#46039f"
             ],
             [
              0.2222222222222222,
              "#7201a8"
             ],
             [
              0.3333333333333333,
              "#9c179e"
             ],
             [
              0.4444444444444444,
              "#bd3786"
             ],
             [
              0.5555555555555556,
              "#d8576b"
             ],
             [
              0.6666666666666666,
              "#ed7953"
             ],
             [
              0.7777777777777778,
              "#fb9f3a"
             ],
             [
              0.8888888888888888,
              "#fdca26"
             ],
             [
              1,
              "#f0f921"
             ]
            ],
            "type": "heatmapgl"
           }
          ],
          "histogram": [
           {
            "marker": {
             "pattern": {
              "fillmode": "overlay",
              "size": 10,
              "solidity": 0.2
             }
            },
            "type": "histogram"
           }
          ],
          "histogram2d": [
           {
            "colorbar": {
             "outlinewidth": 0,
             "ticks": ""
            },
            "colorscale": [
             [
              0,
              "#0d0887"
             ],
             [
              0.1111111111111111,
              "#46039f"
             ],
             [
              0.2222222222222222,
              "#7201a8"
             ],
             [
              0.3333333333333333,
              "#9c179e"
             ],
             [
              0.4444444444444444,
              "#bd3786"
             ],
             [
              0.5555555555555556,
              "#d8576b"
             ],
             [
              0.6666666666666666,
              "#ed7953"
             ],
             [
              0.7777777777777778,
              "#fb9f3a"
             ],
             [
              0.8888888888888888,
              "#fdca26"
             ],
             [
              1,
              "#f0f921"
             ]
            ],
            "type": "histogram2d"
           }
          ],
          "histogram2dcontour": [
           {
            "colorbar": {
             "outlinewidth": 0,
             "ticks": ""
            },
            "colorscale": [
             [
              0,
              "#0d0887"
             ],
             [
              0.1111111111111111,
              "#46039f"
             ],
             [
              0.2222222222222222,
              "#7201a8"
             ],
             [
              0.3333333333333333,
              "#9c179e"
             ],
             [
              0.4444444444444444,
              "#bd3786"
             ],
             [
              0.5555555555555556,
              "#d8576b"
             ],
             [
              0.6666666666666666,
              "#ed7953"
             ],
             [
              0.7777777777777778,
              "#fb9f3a"
             ],
             [
              0.8888888888888888,
              "#fdca26"
             ],
             [
              1,
              "#f0f921"
             ]
            ],
            "type": "histogram2dcontour"
           }
          ],
          "mesh3d": [
           {
            "colorbar": {
             "outlinewidth": 0,
             "ticks": ""
            },
            "type": "mesh3d"
           }
          ],
          "parcoords": [
           {
            "line": {
             "colorbar": {
              "outlinewidth": 0,
              "ticks": ""
             }
            },
            "type": "parcoords"
           }
          ],
          "pie": [
           {
            "automargin": true,
            "type": "pie"
           }
          ],
          "scatter": [
           {
            "fillpattern": {
             "fillmode": "overlay",
             "size": 10,
             "solidity": 0.2
            },
            "type": "scatter"
           }
          ],
          "scatter3d": [
           {
            "line": {
             "colorbar": {
              "outlinewidth": 0,
              "ticks": ""
             }
            },
            "marker": {
             "colorbar": {
              "outlinewidth": 0,
              "ticks": ""
             }
            },
            "type": "scatter3d"
           }
          ],
          "scattercarpet": [
           {
            "marker": {
             "colorbar": {
              "outlinewidth": 0,
              "ticks": ""
             }
            },
            "type": "scattercarpet"
           }
          ],
          "scattergeo": [
           {
            "marker": {
             "colorbar": {
              "outlinewidth": 0,
              "ticks": ""
             }
            },
            "type": "scattergeo"
           }
          ],
          "scattergl": [
           {
            "marker": {
             "colorbar": {
              "outlinewidth": 0,
              "ticks": ""
             }
            },
            "type": "scattergl"
           }
          ],
          "scattermapbox": [
           {
            "marker": {
             "colorbar": {
              "outlinewidth": 0,
              "ticks": ""
             }
            },
            "type": "scattermapbox"
           }
          ],
          "scatterpolar": [
           {
            "marker": {
             "colorbar": {
              "outlinewidth": 0,
              "ticks": ""
             }
            },
            "type": "scatterpolar"
           }
          ],
          "scatterpolargl": [
           {
            "marker": {
             "colorbar": {
              "outlinewidth": 0,
              "ticks": ""
             }
            },
            "type": "scatterpolargl"
           }
          ],
          "scatterternary": [
           {
            "marker": {
             "colorbar": {
              "outlinewidth": 0,
              "ticks": ""
             }
            },
            "type": "scatterternary"
           }
          ],
          "surface": [
           {
            "colorbar": {
             "outlinewidth": 0,
             "ticks": ""
            },
            "colorscale": [
             [
              0,
              "#0d0887"
             ],
             [
              0.1111111111111111,
              "#46039f"
             ],
             [
              0.2222222222222222,
              "#7201a8"
             ],
             [
              0.3333333333333333,
              "#9c179e"
             ],
             [
              0.4444444444444444,
              "#bd3786"
             ],
             [
              0.5555555555555556,
              "#d8576b"
             ],
             [
              0.6666666666666666,
              "#ed7953"
             ],
             [
              0.7777777777777778,
              "#fb9f3a"
             ],
             [
              0.8888888888888888,
              "#fdca26"
             ],
             [
              1,
              "#f0f921"
             ]
            ],
            "type": "surface"
           }
          ],
          "table": [
           {
            "cells": {
             "fill": {
              "color": "#EBF0F8"
             },
             "line": {
              "color": "white"
             }
            },
            "header": {
             "fill": {
              "color": "#C8D4E3"
             },
             "line": {
              "color": "white"
             }
            },
            "type": "table"
           }
          ]
         },
         "layout": {
          "annotationdefaults": {
           "arrowcolor": "#2a3f5f",
           "arrowhead": 0,
           "arrowwidth": 1
          },
          "autotypenumbers": "strict",
          "coloraxis": {
           "colorbar": {
            "outlinewidth": 0,
            "ticks": ""
           }
          },
          "colorscale": {
           "diverging": [
            [
             0,
             "#8e0152"
            ],
            [
             0.1,
             "#c51b7d"
            ],
            [
             0.2,
             "#de77ae"
            ],
            [
             0.3,
             "#f1b6da"
            ],
            [
             0.4,
             "#fde0ef"
            ],
            [
             0.5,
             "#f7f7f7"
            ],
            [
             0.6,
             "#e6f5d0"
            ],
            [
             0.7,
             "#b8e186"
            ],
            [
             0.8,
             "#7fbc41"
            ],
            [
             0.9,
             "#4d9221"
            ],
            [
             1,
             "#276419"
            ]
           ],
           "sequential": [
            [
             0,
             "#0d0887"
            ],
            [
             0.1111111111111111,
             "#46039f"
            ],
            [
             0.2222222222222222,
             "#7201a8"
            ],
            [
             0.3333333333333333,
             "#9c179e"
            ],
            [
             0.4444444444444444,
             "#bd3786"
            ],
            [
             0.5555555555555556,
             "#d8576b"
            ],
            [
             0.6666666666666666,
             "#ed7953"
            ],
            [
             0.7777777777777778,
             "#fb9f3a"
            ],
            [
             0.8888888888888888,
             "#fdca26"
            ],
            [
             1,
             "#f0f921"
            ]
           ],
           "sequentialminus": [
            [
             0,
             "#0d0887"
            ],
            [
             0.1111111111111111,
             "#46039f"
            ],
            [
             0.2222222222222222,
             "#7201a8"
            ],
            [
             0.3333333333333333,
             "#9c179e"
            ],
            [
             0.4444444444444444,
             "#bd3786"
            ],
            [
             0.5555555555555556,
             "#d8576b"
            ],
            [
             0.6666666666666666,
             "#ed7953"
            ],
            [
             0.7777777777777778,
             "#fb9f3a"
            ],
            [
             0.8888888888888888,
             "#fdca26"
            ],
            [
             1,
             "#f0f921"
            ]
           ]
          },
          "colorway": [
           "#636efa",
           "#EF553B",
           "#00cc96",
           "#ab63fa",
           "#FFA15A",
           "#19d3f3",
           "#FF6692",
           "#B6E880",
           "#FF97FF",
           "#FECB52"
          ],
          "font": {
           "color": "#2a3f5f"
          },
          "geo": {
           "bgcolor": "white",
           "lakecolor": "white",
           "landcolor": "#E5ECF6",
           "showlakes": true,
           "showland": true,
           "subunitcolor": "white"
          },
          "hoverlabel": {
           "align": "left"
          },
          "hovermode": "closest",
          "mapbox": {
           "style": "light"
          },
          "paper_bgcolor": "white",
          "plot_bgcolor": "#E5ECF6",
          "polar": {
           "angularaxis": {
            "gridcolor": "white",
            "linecolor": "white",
            "ticks": ""
           },
           "bgcolor": "#E5ECF6",
           "radialaxis": {
            "gridcolor": "white",
            "linecolor": "white",
            "ticks": ""
           }
          },
          "scene": {
           "xaxis": {
            "backgroundcolor": "#E5ECF6",
            "gridcolor": "white",
            "gridwidth": 2,
            "linecolor": "white",
            "showbackground": true,
            "ticks": "",
            "zerolinecolor": "white"
           },
           "yaxis": {
            "backgroundcolor": "#E5ECF6",
            "gridcolor": "white",
            "gridwidth": 2,
            "linecolor": "white",
            "showbackground": true,
            "ticks": "",
            "zerolinecolor": "white"
           },
           "zaxis": {
            "backgroundcolor": "#E5ECF6",
            "gridcolor": "white",
            "gridwidth": 2,
            "linecolor": "white",
            "showbackground": true,
            "ticks": "",
            "zerolinecolor": "white"
           }
          },
          "shapedefaults": {
           "line": {
            "color": "#2a3f5f"
           }
          },
          "ternary": {
           "aaxis": {
            "gridcolor": "white",
            "linecolor": "white",
            "ticks": ""
           },
           "baxis": {
            "gridcolor": "white",
            "linecolor": "white",
            "ticks": ""
           },
           "bgcolor": "#E5ECF6",
           "caxis": {
            "gridcolor": "white",
            "linecolor": "white",
            "ticks": ""
           }
          },
          "title": {
           "x": 0.05
          },
          "xaxis": {
           "automargin": true,
           "gridcolor": "white",
           "linecolor": "white",
           "ticks": "",
           "title": {
            "standoff": 15
           },
           "zerolinecolor": "white",
           "zerolinewidth": 2
          },
          "yaxis": {
           "automargin": true,
           "gridcolor": "white",
           "linecolor": "white",
           "ticks": "",
           "title": {
            "standoff": 15
           },
           "zerolinecolor": "white",
           "zerolinewidth": 2
          }
         }
        },
        "title": {
         "text": "Tesla Supercharger Optimized Path from Council Bluffs IA to Cadillac MI"
        }
       }
      }
     },
     "metadata": {},
     "output_type": "display_data"
    },
    {
     "data": {
      "text/plain": [
       "'<div>                            <div id=\"6bb53630-236b-4f1c-84af-db275c8048ea\" class=\"plotly-graph-div\" style=\"height:100%; width:100%;\"></div>            <script type=\"text/javascript\">                                    window.PLOTLYENV=window.PLOTLYENV || {};                                    if (document.getElementById(\"6bb53630-236b-4f1c-84af-db275c8048ea\")) {                    Plotly.newPlot(                        \"6bb53630-236b-4f1c-84af-db275c8048ea\",                        [{\"lat\":[42.710356,40.544595,39.858702,43.592251,34.667629,35.108486,39.662265,43.623536,40.738399,38.877342,37.66976,38.249149,42.518715,39.040814,33.894227,32.726686,41.245823,43.102424,38.957778,40.277134,28.514873,30.181405,37.394181,45.70007,41.348503,45.64655,42.241125,34.850835,34.98737,33.79382,40.958869,40.66179,41.585206,35.174151,36.860525,29.112378,41.045431,46.729872,40.891909,36.61697,37.703163,38.017955,38.235578,44.347885,39.678111,38.993577,44.704537,43.109066,32.374263,40.32244,35.34075,33.741291,31.312424,41.57833,46.976918,32.135885,34.922962,36.835455,41.499616,33.52421,44.46286,38.642291,38.696385,37.14916,32.878773,29.827707,32.068583,32.760837,43.879042,41.080103,45.402786,47.192149,37.782622,29.140981,34.947013,33.485858,40.720352,39.541124,40.588118,35.901319,38.573122,39.77512,27.940665,44.105601,44.656089,48.509743,41.161085,42.236461,42.130914,27.31293,40.017517,37.963357,42.056357,37.5447,38.931919,35.9696,39.1481,41.760671,32.902166,33.921063,39.877253,35.505278,45.981226,42.460931,43.328388,38.837573,42.17434,38.900543,38.78216,40.957892,39.563776,41.519427,31.582287,42.895248,46.914375,43.979585,35.486585,43.886915,34.174754,37.405893,39.095382,44.964892,42.968675,33.986765,33.70275,32.833485,46.378836,43.12669,41.699048,39.137114,33.660784,37.02445,46.198035,40.195539,46.784467,39.443345,39.393663,36.165906,37.644519,39.00496,33.970281,39.268975,41.660517,26.77825,42.049602,35.191331,27.60089,45.83626,35.15396,30.423892,45.611941,41.041538,32.832466,36.289315,40.7999,40.683508,34.729509,38.069801,34.39359,32.274159,38.211962,34.614555,39.023876,28.766853,42.914231,31.448847,38.78799,29.690066,39.702238,40.06076,40.508562,37.593182,37.415328,36.748516,41.890872,40.68331,35.400105,36.913695,35.531428,39.92646,32.478594,36.766315,45.734046,35.140024,42.597887,38.366645,29.924286,30.199071,40.226408,32.949077,39.090758,47.708479,32.470885,28.617982,42.145542,39.605859,30.720702,30.266552,30.790734,36.167631,42.998817,24.72611,39.326258,42.243893,39.327438,36.612153,39.224642,35.972904,35.646451,41.781195,41.722672,46.009797,36.955196,34.238115,32.627837,33.673925,38.771208,40.415938,47.62957,37.126463,33.443011,33.498538,35.461664,40.726668,35.53859,47.116294,37.134167,33.231373,32.450591,40.146204,44.292984,34.849124,30.671556,39.552676,36.893583,40.778885,26.108605,43.485152,43.113878,26.485574,34.879736,44.804582,33.137098,41.907415,34.32753,32.943675,41.717337,33.421676,39.631467,30.716158,39.600831,36.60059,35.189016,45.15313,35.610678,44.957751,37.625618,42.838443,44.082607,33.931316,42.899615,41.310222,33.793198,44.03563,36.254143,36.945693,35.038644,29.108571,37.60878,41.313663,41.70995,35.850587,38.242676,40.41621,44.73704,37.394011,35.068595,44.77083,43.701129,42.295745,29.980687,40.303817,30.510908,40.179476,34.179106,44.782882,38.64082,38.80086,40.836301,39.489732,42.75625,35.226765,40.684466,38.4016,39.04438,34.113584,34.994625],\"lon\":[-73.819109,-74.334113,-84.277027,-116.27942,-79.002343,-106.612804,-75.692027,-72.3258949,-114.058998,-97.618699,-77.461414,-112.652524,-87.950428,-94.369265,-118.367407,-114.619093,-73.009059,-76.187446,-92.252761,-76.823255,-81.500189,-82.679605,-122.149858,-111.06329,-89.126115,-118.68198,-83.766522,-114.624329,-118.946272,-84.39713,-117.746501,-73.79282,-87.721114,-111.663194,-76.207467,-99.75208,-75.312237,-122.977392,-72.426995,-121.843973,-121.925304,-84.420664,-122.263886,-69.786042,-111.841003,-110.140513,-73.491829,-71.477768,-99.007197,-74.4869,-80.76579,-116.215029,-92.446436,-83.664593,-120.54162,-81.212853,-110.145558,-119.91058,-74.071324,-117.152568,-73.179308,-121.18813,-119.548525,-84.11385,-111.681694,-97.979685,-96.448248,-115.532486,-91.188428,-73.46135,-122.294371,-114.888901,-121.228683,-82.193938,-104.647997,-80.475763,-111.888712,-119.442336,-75.560089,-84.149634,-109.552368,-104.794648,-82.323525,-103.212569,-111.099022,-122.338681,-104.804955,-71.178325,-72.621435,-80.406743,-79.07712,-122.515699,-86.456352,-122.29011,-77.239564,-86.804159,-123.208604,-88.309184,-117.193699,-118.330074,-83.063448,-108.828094,-112.507161,-123.324124,-73.679992,-104.824889,-87.816626,-99.319142,-90.5329,-74.073976,-104.875651,-81.493146,-97.109152,-70.869299,-114.031924,-75.954114,-120.666378,-100.716887,-118.300803,-121.987945,-76.858319,-92.961249,-78.69568,-118.390162,-117.934297,-83.625813,-94.256378,-89.306829,-85.000326,-88.563468,-114.241801,-121.56535,-119.162687,-74.641375,-92.10232,-87.331737,-74.562619,-115.138655,-118.965499,-78.337848,-112.731503,-103.708626,-71.497242,-80.109586,-80.086345,-114.065592,-80.82286,-109.94341,-103.7226,-91.154637,-121.208249,-73.671661,-96.837638,-97.325935,-73.51524,-80.108327,-82.366353,-117.232243,-82.028798,-90.151048,-85.67319,-120.188432,-77.144352,-96.978988,-85.533057,-83.53221,-112.085173,-96.537727,-86.07959,-80.602742,-88.984738,-122.367483,-122.076575,-78.103517,-87.654214,-74.006508,-119.397796,-116.754463,-82.604495,-122.1984,-93.75437,-108.144266,-108.604932,-80.719776,-114.455249,-121.958136,-81.416018,-93.248782,-74.093572,-111.991933,-108.604325,-116.794283,-95.450473,-81.387995,-75.902081,-77.733324,-86.116677,-89.760156,-81.663625,-95.766044,-82.428935,-81.047912,-101.725107,-88.978895,-120.20741,-121.897995,-84.383507,-77.846845,-117.812644,-70.540289,-72.759717,-92.93137,-86.438854,-119.178084,-85.445105,-117.882412,-121.266149,-74.444713,-122.148073,-113.601737,-112.556876,-117.66309,-97.65144,-84.071932,-98.66012,-118.368328,-104.519352,-97.166412,-100.392455,-88.259828,-105.526325,-117.085459,-88.118644,-107.340171,-89.533986,-124.188383,-80.252444,-112.05205,-75.206857,-81.787149,-114.131562,-106.956345,-95.603229,-87.973023,-112.11846,-112.734081,-86.18863,-111.897331,-106.070818,-95.565944,-110.831666,-118.061916,-101.931467,-122.881254,-115.388014,-124.010966,-109.473842,-72.565798,-123.037458,-116.820082,-112.435248,-122.31731,-84.285394,-121.308473,-120.23792,-81.054651,-85.19593,-81.034603,-97.33314,-81.517018,-112.198576,-76.756116,-122.625023,-86.814089,-122.151999,-122.150347,-118.174576,-91.43711,-98.0445,-73.239226,-95.421547,-83.550529,-84.247841,-118.472135,-97.165632,-117.812306,-77.29633,-121.210529,-115.790859,-119.794179,-104.45267,-100.24836,-112.269008,-75.56489,-95.760267,-117.529427,-78.13567],\"marker\":{\"allowoverlap\":true,\"cmax\":194.0,\"cmin\":79.0,\"size\":5,\"symbol\":[\"fuel\",\"fuel\",\"fuel\",\"fuel\",\"fuel\",\"fuel\",\"fuel\",\"fuel\",\"fuel\",\"fuel\",\"fuel\",\"fuel\",\"fuel\",\"fuel\",\"fuel\",\"fuel\",\"fuel\",\"fuel\",\"fuel\",\"fuel\",\"fuel\",\"fuel\",\"fuel\",\"fuel\",\"fuel\",\"fuel\",\"fuel\",\"fuel\",\"fuel\",\"fuel\",\"fuel\",\"fuel\",\"fuel\",\"fuel\",\"fuel\",\"fuel\",\"fuel\",\"fuel\",\"fuel\",\"fuel\",\"fuel\",\"fuel\",\"fuel\",\"fuel\",\"fuel\",\"fuel\",\"fuel\",\"fuel\",\"fuel\",\"fuel\",\"fuel\",\"fuel\",\"fuel\",\"fuel\",\"fuel\",\"fuel\",\"fuel\",\"fuel\",\"fuel\",\"fuel\",\"fuel\",\"fuel\",\"fuel\",\"fuel\",\"fuel\",\"fuel\",\"fuel\",\"fuel\",\"fuel\",\"fuel\",\"fuel\",\"fuel\",\"fuel\",\"fuel\",\"fuel\",\"fuel\",\"fuel\",\"fuel\",\"fuel\",\"fuel\",\"fuel\",\"fuel\",\"fuel\",\"fuel\",\"fuel\",\"fuel\",\"fuel\",\"fuel\",\"fuel\",\"fuel\",\"fuel\",\"fuel\",\"fuel\",\"fuel\",\"fuel\",\"fuel\",\"fuel\",\"fuel\",\"fuel\",\"fuel\",\"fuel\",\"fuel\",\"fuel\",\"fuel\",\"fuel\",\"fuel\",\"fuel\",\"fuel\",\"fuel\",\"fuel\",\"fuel\",\"fuel\",\"fuel\",\"fuel\",\"fuel\",\"fuel\",\"fuel\",\"fuel\",\"fuel\",\"fuel\",\"fuel\",\"fuel\",\"fuel\",\"fuel\",\"fuel\",\"fuel\",\"fuel\",\"fuel\",\"fuel\",\"fuel\",\"fuel\",\"fuel\",\"fuel\",\"fuel\",\"fuel\",\"fuel\",\"fuel\",\"fuel\",\"fuel\",\"fuel\",\"fuel\",\"fuel\",\"fuel\",\"fuel\",\"fuel\",\"fuel\",\"fuel\",\"fuel\",\"fuel\",\"fuel\",\"fuel\",\"fuel\",\"fuel\",\"fuel\",\"fuel\",\"fuel\",\"fuel\",\"fuel\",\"fuel\",\"fuel\",\"fuel\",\"fuel\",\"fuel\",\"fuel\",\"fuel\",\"fuel\",\"fuel\",\"fuel\",\"fuel\",\"fuel\",\"fuel\",\"fuel\",\"fuel\",\"fuel\",\"fuel\",\"fuel\",\"fuel\",\"fuel\",\"fuel\",\"fuel\",\"fuel\",\"fuel\",\"fuel\",\"fuel\",\"fuel\",\"fuel\",\"fuel\",\"fuel\",\"fuel\",\"fuel\",\"fuel\",\"fuel\",\"fuel\",\"fuel\",\"fuel\",\"fuel\",\"fuel\",\"fuel\",\"fuel\",\"fuel\",\"fuel\",\"fuel\",\"fuel\",\"fuel\",\"fuel\",\"fuel\",\"fuel\",\"fuel\",\"fuel\",\"fuel\",\"fuel\",\"fuel\",\"fuel\",\"fuel\",\"fuel\",\"fuel\",\"fuel\",\"fuel\",\"fuel\",\"fuel\",\"fuel\",\"fuel\",\"fuel\",\"fuel\",\"fuel\",\"fuel\",\"fuel\",\"fuel\",\"fuel\",\"fuel\",\"fuel\",\"fuel\",\"fuel\",\"fuel\",\"fuel\",\"fuel\",\"fuel\",\"fuel\",\"fuel\",\"fuel\",\"fuel\",\"fuel\",\"fuel\",\"fuel\",\"fuel\",\"fuel\",\"fuel\",\"fuel\",\"fuel\",\"fuel\",\"fuel\",\"fuel\",\"fuel\",\"fuel\",\"fuel\",\"fuel\",\"fuel\",\"fuel\",\"fuel\",\"fuel\",\"fuel\",\"fuel\",\"fuel\",\"fuel\",\"fuel\",\"fuel\",\"fuel\",\"fuel\",\"fuel\",\"fuel\",\"fuel\",\"fuel\",\"fuel\",\"fuel\",\"fuel\",\"fuel\",\"fuel\",\"fuel\",\"fuel\",\"fuel\",\"fuel\",\"fuel\",\"fuel\",\"fuel\",\"fuel\",\"fuel\",\"fuel\",\"fuel\",\"fuel\",\"fuel\",\"fuel\",\"fuel\",\"fuel\",\"fuel\",\"fuel\",\"fuel\",\"fuel\"]},\"mode\":\"markers\",\"name\":\"Station\",\"showlegend\":false,\"text\":[\"Council_Bluffs_IA\",\"Worthington_MN\",\"Albert_Lea_MN\",\"Mauston_WI\",\"Sheboygan_WI\",\"Cadillac_MI\"],\"type\":\"scattermapbox\"},{\"lat\":[41.22,43.63,43.69,43.8,43.75,44.28],\"lon\":[-95.84,-95.6,-93.36,-90.06,-87.75,-85.4],\"marker\":{\"allowoverlap\":true,\"size\":8,\"symbol\":[\"fuel\",\"fuel\",\"fuel\",\"fuel\",\"fuel\",\"fuel\"]},\"mode\":\"markers+lines\",\"name\":\"Station\",\"showlegend\":false,\"text\":[\"Council_Bluffs_IA\",\"Worthington_MN\",\"Albert_Lea_MN\",\"Mauston_WI\",\"Sheboygan_WI\",\"Cadillac_MI\"],\"type\":\"scattermapbox\"}],                        {\"geo\":{\"scope\":\"usa\"},\"mapbox\":{\"accesstoken\":\"pk.eyJ1IjoidmlzaGFsZ2F0dGFuaTEwIiwiYSI6ImNqazdvZjU1ajIwc24za241Ynp0b3FiMjIifQ.KOjDXUbj17uYUWgo_aFKQA\",\"bearing\":0,\"center\":{\"lat\":38.92,\"lon\":-99.3},\"pitch\":0,\"zoom\":2.5},\"showlegend\":false,\"template\":{\"data\":{\"barpolar\":[{\"marker\":{\"line\":{\"color\":\"#E5ECF6\",\"width\":0.5},\"pattern\":{\"fillmode\":\"overlay\",\"size\":10,\"solidity\":0.2}},\"type\":\"barpolar\"}],\"bar\":[{\"error_x\":{\"color\":\"#2a3f5f\"},\"error_y\":{\"color\":\"#2a3f5f\"},\"marker\":{\"line\":{\"color\":\"#E5ECF6\",\"width\":0.5},\"pattern\":{\"fillmode\":\"overlay\",\"size\":10,\"solidity\":0.2}},\"type\":\"bar\"}],\"carpet\":[{\"aaxis\":{\"endlinecolor\":\"#2a3f5f\",\"gridcolor\":\"white\",\"linecolor\":\"white\",\"minorgridcolor\":\"white\",\"startlinecolor\":\"#2a3f5f\"},\"baxis\":{\"endlinecolor\":\"#2a3f5f\",\"gridcolor\":\"white\",\"linecolor\":\"white\",\"minorgridcolor\":\"white\",\"startlinecolor\":\"#2a3f5f\"},\"type\":\"carpet\"}],\"choropleth\":[{\"colorbar\":{\"outlinewidth\":0,\"ticks\":\"\"},\"type\":\"choropleth\"}],\"contourcarpet\":[{\"colorbar\":{\"outlinewidth\":0,\"ticks\":\"\"},\"type\":\"contourcarpet\"}],\"contour\":[{\"colorbar\":{\"outlinewidth\":0,\"ticks\":\"\"},\"colorscale\":[[0.0,\"#0d0887\"],[0.1111111111111111,\"#46039f\"],[0.2222222222222222,\"#7201a8\"],[0.3333333333333333,\"#9c179e\"],[0.4444444444444444,\"#bd3786\"],[0.5555555555555556,\"#d8576b\"],[0.6666666666666666,\"#ed7953\"],[0.7777777777777778,\"#fb9f3a\"],[0.8888888888888888,\"#fdca26\"],[1.0,\"#f0f921\"]],\"type\":\"contour\"}],\"heatmapgl\":[{\"colorbar\":{\"outlinewidth\":0,\"ticks\":\"\"},\"colorscale\":[[0.0,\"#0d0887\"],[0.1111111111111111,\"#46039f\"],[0.2222222222222222,\"#7201a8\"],[0.3333333333333333,\"#9c179e\"],[0.4444444444444444,\"#bd3786\"],[0.5555555555555556,\"#d8576b\"],[0.6666666666666666,\"#ed7953\"],[0.7777777777777778,\"#fb9f3a\"],[0.8888888888888888,\"#fdca26\"],[1.0,\"#f0f921\"]],\"type\":\"heatmapgl\"}],\"heatmap\":[{\"colorbar\":{\"outlinewidth\":0,\"ticks\":\"\"},\"colorscale\":[[0.0,\"#0d0887\"],[0.1111111111111111,\"#46039f\"],[0.2222222222222222,\"#7201a8\"],[0.3333333333333333,\"#9c179e\"],[0.4444444444444444,\"#bd3786\"],[0.5555555555555556,\"#d8576b\"],[0.6666666666666666,\"#ed7953\"],[0.7777777777777778,\"#fb9f3a\"],[0.8888888888888888,\"#fdca26\"],[1.0,\"#f0f921\"]],\"type\":\"heatmap\"}],\"histogram2dcontour\":[{\"colorbar\":{\"outlinewidth\":0,\"ticks\":\"\"},\"colorscale\":[[0.0,\"#0d0887\"],[0.1111111111111111,\"#46039f\"],[0.2222222222222222,\"#7201a8\"],[0.3333333333333333,\"#9c179e\"],[0.4444444444444444,\"#bd3786\"],[0.5555555555555556,\"#d8576b\"],[0.6666666666666666,\"#ed7953\"],[0.7777777777777778,\"#fb9f3a\"],[0.8888888888888888,\"#fdca26\"],[1.0,\"#f0f921\"]],\"type\":\"histogram2dcontour\"}],\"histogram2d\":[{\"colorbar\":{\"outlinewidth\":0,\"ticks\":\"\"},\"colorscale\":[[0.0,\"#0d0887\"],[0.1111111111111111,\"#46039f\"],[0.2222222222222222,\"#7201a8\"],[0.3333333333333333,\"#9c179e\"],[0.4444444444444444,\"#bd3786\"],[0.5555555555555556,\"#d8576b\"],[0.6666666666666666,\"#ed7953\"],[0.7777777777777778,\"#fb9f3a\"],[0.8888888888888888,\"#fdca26\"],[1.0,\"#f0f921\"]],\"type\":\"histogram2d\"}],\"histogram\":[{\"marker\":{\"pattern\":{\"fillmode\":\"overlay\",\"size\":10,\"solidity\":0.2}},\"type\":\"histogram\"}],\"mesh3d\":[{\"colorbar\":{\"outlinewidth\":0,\"ticks\":\"\"},\"type\":\"mesh3d\"}],\"parcoords\":[{\"line\":{\"colorbar\":{\"outlinewidth\":0,\"ticks\":\"\"}},\"type\":\"parcoords\"}],\"pie\":[{\"automargin\":true,\"type\":\"pie\"}],\"scatter3d\":[{\"line\":{\"colorbar\":{\"outlinewidth\":0,\"ticks\":\"\"}},\"marker\":{\"colorbar\":{\"outlinewidth\":0,\"ticks\":\"\"}},\"type\":\"scatter3d\"}],\"scattercarpet\":[{\"marker\":{\"colorbar\":{\"outlinewidth\":0,\"ticks\":\"\"}},\"type\":\"scattercarpet\"}],\"scattergeo\":[{\"marker\":{\"colorbar\":{\"outlinewidth\":0,\"ticks\":\"\"}},\"type\":\"scattergeo\"}],\"scattergl\":[{\"marker\":{\"colorbar\":{\"outlinewidth\":0,\"ticks\":\"\"}},\"type\":\"scattergl\"}],\"scattermapbox\":[{\"marker\":{\"colorbar\":{\"outlinewidth\":0,\"ticks\":\"\"}},\"type\":\"scattermapbox\"}],\"scatterpolargl\":[{\"marker\":{\"colorbar\":{\"outlinewidth\":0,\"ticks\":\"\"}},\"type\":\"scatterpolargl\"}],\"scatterpolar\":[{\"marker\":{\"colorbar\":{\"outlinewidth\":0,\"ticks\":\"\"}},\"type\":\"scatterpolar\"}],\"scatter\":[{\"fillpattern\":{\"fillmode\":\"overlay\",\"size\":10,\"solidity\":0.2},\"type\":\"scatter\"}],\"scatterternary\":[{\"marker\":{\"colorbar\":{\"outlinewidth\":0,\"ticks\":\"\"}},\"type\":\"scatterternary\"}],\"surface\":[{\"colorbar\":{\"outlinewidth\":0,\"ticks\":\"\"},\"colorscale\":[[0.0,\"#0d0887\"],[0.1111111111111111,\"#46039f\"],[0.2222222222222222,\"#7201a8\"],[0.3333333333333333,\"#9c179e\"],[0.4444444444444444,\"#bd3786\"],[0.5555555555555556,\"#d8576b\"],[0.6666666666666666,\"#ed7953\"],[0.7777777777777778,\"#fb9f3a\"],[0.8888888888888888,\"#fdca26\"],[1.0,\"#f0f921\"]],\"type\":\"surface\"}],\"table\":[{\"cells\":{\"fill\":{\"color\":\"#EBF0F8\"},\"line\":{\"color\":\"white\"}},\"header\":{\"fill\":{\"color\":\"#C8D4E3\"},\"line\":{\"color\":\"white\"}},\"type\":\"table\"}]},\"layout\":{\"annotationdefaults\":{\"arrowcolor\":\"#2a3f5f\",\"arrowhead\":0,\"arrowwidth\":1},\"autotypenumbers\":\"strict\",\"coloraxis\":{\"colorbar\":{\"outlinewidth\":0,\"ticks\":\"\"}},\"colorscale\":{\"diverging\":[[0,\"#8e0152\"],[0.1,\"#c51b7d\"],[0.2,\"#de77ae\"],[0.3,\"#f1b6da\"],[0.4,\"#fde0ef\"],[0.5,\"#f7f7f7\"],[0.6,\"#e6f5d0\"],[0.7,\"#b8e186\"],[0.8,\"#7fbc41\"],[0.9,\"#4d9221\"],[1,\"#276419\"]],\"sequential\":[[0.0,\"#0d0887\"],[0.1111111111111111,\"#46039f\"],[0.2222222222222222,\"#7201a8\"],[0.3333333333333333,\"#9c179e\"],[0.4444444444444444,\"#bd3786\"],[0.5555555555555556,\"#d8576b\"],[0.6666666666666666,\"#ed7953\"],[0.7777777777777778,\"#fb9f3a\"],[0.8888888888888888,\"#fdca26\"],[1.0,\"#f0f921\"]],\"sequentialminus\":[[0.0,\"#0d0887\"],[0.1111111111111111,\"#46039f\"],[0.2222222222222222,\"#7201a8\"],[0.3333333333333333,\"#9c179e\"],[0.4444444444444444,\"#bd3786\"],[0.5555555555555556,\"#d8576b\"],[0.6666666666666666,\"#ed7953\"],[0.7777777777777778,\"#fb9f3a\"],[0.8888888888888888,\"#fdca26\"],[1.0,\"#f0f921\"]]},\"colorway\":[\"#636efa\",\"#EF553B\",\"#00cc96\",\"#ab63fa\",\"#FFA15A\",\"#19d3f3\",\"#FF6692\",\"#B6E880\",\"#FF97FF\",\"#FECB52\"],\"font\":{\"color\":\"#2a3f5f\"},\"geo\":{\"bgcolor\":\"white\",\"lakecolor\":\"white\",\"landcolor\":\"#E5ECF6\",\"showlakes\":true,\"showland\":true,\"subunitcolor\":\"white\"},\"hoverlabel\":{\"align\":\"left\"},\"hovermode\":\"closest\",\"mapbox\":{\"style\":\"light\"},\"paper_bgcolor\":\"white\",\"plot_bgcolor\":\"#E5ECF6\",\"polar\":{\"angularaxis\":{\"gridcolor\":\"white\",\"linecolor\":\"white\",\"ticks\":\"\"},\"bgcolor\":\"#E5ECF6\",\"radialaxis\":{\"gridcolor\":\"white\",\"linecolor\":\"white\",\"ticks\":\"\"}},\"scene\":{\"xaxis\":{\"backgroundcolor\":\"#E5ECF6\",\"gridcolor\":\"white\",\"gridwidth\":2,\"linecolor\":\"white\",\"showbackground\":true,\"ticks\":\"\",\"zerolinecolor\":\"white\"},\"yaxis\":{\"backgroundcolor\":\"#E5ECF6\",\"gridcolor\":\"white\",\"gridwidth\":2,\"linecolor\":\"white\",\"showbackground\":true,\"ticks\":\"\",\"zerolinecolor\":\"white\"},\"zaxis\":{\"backgroundcolor\":\"#E5ECF6\",\"gridcolor\":\"white\",\"gridwidth\":2,\"linecolor\":\"white\",\"showbackground\":true,\"ticks\":\"\",\"zerolinecolor\":\"white\"}},\"shapedefaults\":{\"line\":{\"color\":\"#2a3f5f\"}},\"ternary\":{\"aaxis\":{\"gridcolor\":\"white\",\"linecolor\":\"white\",\"ticks\":\"\"},\"baxis\":{\"gridcolor\":\"white\",\"linecolor\":\"white\",\"ticks\":\"\"},\"bgcolor\":\"#E5ECF6\",\"caxis\":{\"gridcolor\":\"white\",\"linecolor\":\"white\",\"ticks\":\"\"}},\"title\":{\"x\":0.05},\"xaxis\":{\"automargin\":true,\"gridcolor\":\"white\",\"linecolor\":\"white\",\"ticks\":\"\",\"title\":{\"standoff\":15},\"zerolinecolor\":\"white\",\"zerolinewidth\":2},\"yaxis\":{\"automargin\":true,\"gridcolor\":\"white\",\"linecolor\":\"white\",\"ticks\":\"\",\"title\":{\"standoff\":15},\"zerolinecolor\":\"white\",\"zerolinewidth\":2}}},\"title\":{\"text\":\"Tesla Supercharger Optimized Path from Council Bluffs IA to Cadillac MI\"}},                        {\"responsive\": true}                    )                };                            </script>        </div>'"
      ]
     },
     "execution_count": 76,
     "metadata": {},
     "output_type": "execute_result"
    }
   ],
   "source": [
    "\n",
    "charge_cond = pathdf.time_spent_charging > 0\n",
    "charge_df = pathdf[charge_cond]\n",
    "\n",
    "cond = data['Location'].isin(pathdf['Location'])\n",
    "data.drop(data[cond].index, inplace = True)\n",
    "\n",
    "plots = [\n",
    "    \n",
    "    go.Scattermapbox(\n",
    "    # hoverinfo='none',\n",
    "    text = pathdf.Location,\n",
    "    lon = data.lng,\n",
    "    lat = data.lat,\n",
    "    mode='markers',\n",
    "    marker = {'size': 5,\n",
    "                'symbol': [\"fuel\"]*len(data),\n",
    "                'allowoverlap': True,\n",
    "            #   'color': pathdf.charging_rate,\n",
    "                'cmin': data.charging_rate.min(),\n",
    "                'cmax': data.charging_rate.max()\n",
    "            }),\n",
    "\n",
    "    go.Scattermapbox(\n",
    "    text = pathdf.Location,\n",
    "    lon = pathdf.lng,\n",
    "    lat = pathdf.lat,\n",
    "    mode='markers+lines',\n",
    "    marker = {'size': 8,\n",
    "                'symbol': [\"fuel\"]*len(pathdf),\n",
    "                'allowoverlap': True,\n",
    "            #   'color': pathdf.charging_rate,\n",
    "            }\n",
    "    ),\n",
    "\n",
    "\n",
    "        ]\n",
    "\n",
    "fig = go.Figure(data=plots)\n",
    "\n",
    "fig.update_layout(\n",
    "        title = 'Tesla Supercharger Optimized Path from '+pathdf.Location.values.tolist()[0].replace(\"_\",\" \")+\" to \"+pathdf.Location.values.tolist()[-1].replace(\"_\",\" \"),\n",
    "        geo_scope='usa',\n",
    "        showlegend=False,\n",
    "        mapbox = dict(\n",
    "        accesstoken = mapbox_token,\n",
    "        bearing=0,\n",
    "        center=dict(\n",
    "            lat=38.92,\n",
    "            lon=-99.3\n",
    "        ),\n",
    "        pitch=0,\n",
    "        zoom=2.5,\n",
    "\n",
    "),\n",
    "    )\n",
    "\n",
    "fig.update_traces(name='Station', showlegend = False)\n",
    "fig.show()\n",
    "plotly.offline.plot(fig, include_plotlyjs=False, output_type='div')"
   ]
  },
  {
   "cell_type": "code",
   "execution_count": null,
   "metadata": {},
   "outputs": [],
   "source": []
  }
 ],
 "metadata": {
  "kernelspec": {
   "display_name": "base",
   "language": "python",
   "name": "python3"
  },
  "language_info": {
   "codemirror_mode": {
    "name": "ipython",
    "version": 3
   },
   "file_extension": ".py",
   "mimetype": "text/x-python",
   "name": "python",
   "nbconvert_exporter": "python",
   "pygments_lexer": "ipython3",
   "version": "3.9.16"
  },
  "orig_nbformat": 4
 },
 "nbformat": 4,
 "nbformat_minor": 2
}
